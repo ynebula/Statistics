{
 "cells": [
  {
   "cell_type": "markdown",
   "metadata": {},
   "source": [
    "다음은 1990년 캘리포니아 지역의 각 행정구역별 주택가격에 대한 정보를 정리한 데이터이다. 각 행정 구역당 한개의 Row에 관련정보들을 담고있다. 이 데이터로 죽택가격을 예측하는 모형을 생성하고자 한다.\n",
    "- 데이터: California_housing.txt\n",
    "- Medinc: 소득의 중앙값(숫자형)\n",
    "- HouseAge: 주택연식의 중앙값(숫자형)\n",
    "- AveRooms: 평균 방 개수(숫자형)\n",
    "- AveBedrms: 평균 침실 개수(숫자형)\n",
    "- Population: 인구수 (숫자형)\n",
    "- AveOccup: 평균 자가비율 (숫자형)\n",
    "- Target: 주택각격의 중앙값 (숫자형)\n",
    "- Xgrp: Train/Test Set 구분을 위한 index"
   ]
  },
  {
   "cell_type": "code",
   "execution_count": 59,
   "metadata": {},
   "outputs": [],
   "source": [
    "import pandas as pd\n",
    "import numpy as np\n",
    "from sklearn.linear_model import LinearRegression\n",
    "import statsmodels.formula.api as smf\n",
    "from sklearn.metrics import mean_squared_error\n",
    "from sklearn.preprocessing import MinMaxScaler\n",
    "from sklearn.preprocessing import StandardScaler\n",
    "from sklearn.decomposition import PCA"
   ]
  },
  {
   "cell_type": "code",
   "execution_count": 2,
   "metadata": {},
   "outputs": [
    {
     "data": {
      "text/plain": [
       "(20640, 8)"
      ]
     },
     "execution_count": 2,
     "metadata": {},
     "output_type": "execute_result"
    }
   ],
   "source": [
    "data = pd.read_csv('California_housing.txt')\n",
    "data.shape"
   ]
  },
  {
   "cell_type": "markdown",
   "metadata": {},
   "source": [
    "### 결측치 제거"
   ]
  },
  {
   "cell_type": "code",
   "execution_count": 3,
   "metadata": {},
   "outputs": [
    {
     "data": {
      "text/plain": [
       "MedInc        0\n",
       "HouseAge      0\n",
       "AveRooms      1\n",
       "AveBedrms     0\n",
       "Population    3\n",
       "AveOccup      3\n",
       "Target        0\n",
       "Xgrp          0\n",
       "dtype: int64"
      ]
     },
     "execution_count": 3,
     "metadata": {},
     "output_type": "execute_result"
    }
   ],
   "source": [
    "np.sum(pd.isnull(data))"
   ]
  },
  {
   "cell_type": "code",
   "execution_count": 5,
   "metadata": {},
   "outputs": [
    {
     "data": {
      "text/plain": [
       "(20633, 8)"
      ]
     },
     "execution_count": 5,
     "metadata": {},
     "output_type": "execute_result"
    }
   ],
   "source": [
    "data = data.dropna(axis=0)\n",
    "data.shape"
   ]
  },
  {
   "cell_type": "markdown",
   "metadata": {},
   "source": [
    "### 문제1.\n",
    "인구를 제외하고 어떤 변수들이 주택가격과 높은 연관성을 가지는지 파악하고자 한다. Pearson 상관 분석을 통하여 주택가격의 중앙값과 상관관계가 가장 약한 변수 두 개를 차례로 서술하시오\n",
    "\n",
    "- 답: AveBedrms  AveOccup"
   ]
  },
  {
   "cell_type": "code",
   "execution_count": 6,
   "metadata": {},
   "outputs": [
    {
     "data": {
      "text/plain": [
       "Index(['MedInc', 'HouseAge', 'AveRooms', 'AveBedrms', 'Population', 'AveOccup',\n",
       "       'Target', 'Xgrp'],\n",
       "      dtype='object')"
      ]
     },
     "execution_count": 6,
     "metadata": {},
     "output_type": "execute_result"
    }
   ],
   "source": [
    "data.columns"
   ]
  },
  {
   "cell_type": "code",
   "execution_count": 8,
   "metadata": {},
   "outputs": [
    {
     "name": "stdout",
     "output_type": "stream",
     "text": [
      "             MedInc  HouseAge  AveRooms  AveBedrms  AveOccup    Target\n",
      "MedInc     1.000000 -0.119027  0.326912  -0.062013  0.018764  0.688015\n",
      "HouseAge  -0.119027  1.000000 -0.153331  -0.077790  0.013190  0.105684\n",
      "AveRooms   0.326912 -0.153331  1.000000   0.847643 -0.004849  0.151964\n",
      "AveBedrms -0.062013 -0.077790  0.847643   1.000000 -0.006179 -0.046664\n",
      "AveOccup   0.018764  0.013190 -0.004849  -0.006179  1.000000 -0.023745\n",
      "Target     0.688015  0.105684  0.151964  -0.046664 -0.023745  1.000000\n"
     ]
    }
   ],
   "source": [
    "print(data[['MedInc', 'HouseAge', 'AveRooms', 'AveBedrms', 'AveOccup','Target']].corr(method='pearson'))"
   ]
  },
  {
   "cell_type": "markdown",
   "metadata": {},
   "source": [
    "### 문제2\n",
    "Xgrp가 0인 데이터를 이용하여 주택가격의 중앙값을 예측하기 위해 주택가격의 중앙값과 상탲거으로 연관성이 ㅇ가장 낮은 변수를 제외한 나머지 변수들로 선형회귀모형을 만든다. 추정된 선형회귀 모형의 설명력을 소수점 셋째자리에서 반올림하여 기술하시오\n",
    "\n",
    "정답: 0.54"
   ]
  },
  {
   "cell_type": "code",
   "execution_count": 17,
   "metadata": {},
   "outputs": [
    {
     "name": "stdout",
     "output_type": "stream",
     "text": [
      "(14444, 8) (6189, 8)\n"
     ]
    },
    {
     "data": {
      "text/plain": [
       "Index(['MedInc', 'HouseAge', 'AveRooms', 'AveBedrms', 'Population', 'AveOccup',\n",
       "       'Target', 'Xgrp'],\n",
       "      dtype='object')"
      ]
     },
     "execution_count": 17,
     "metadata": {},
     "output_type": "execute_result"
    }
   ],
   "source": [
    "trainData = data[data.Xgrp==0]\n",
    "testData = data[data.Xgrp==1]\n",
    "\n",
    "print(trainData.shape, testData.shape)\n",
    "trainData.columns"
   ]
  },
  {
   "cell_type": "code",
   "execution_count": 21,
   "metadata": {},
   "outputs": [
    {
     "name": "stdout",
     "output_type": "stream",
     "text": [
      "                            OLS Regression Results                            \n",
      "==============================================================================\n",
      "Dep. Variable:                 Target   R-squared:                       0.543\n",
      "Model:                            OLS   Adj. R-squared:                  0.542\n",
      "Method:                 Least Squares   F-statistic:                     3426.\n",
      "Date:                Sun, 06 Sep 2020   Prob (F-statistic):               0.00\n",
      "Time:                        13:04:01   Log-Likelihood:                -16912.\n",
      "No. Observations:               14444   AIC:                         3.384e+04\n",
      "Df Residuals:                   14438   BIC:                         3.388e+04\n",
      "Df Model:                           5                                         \n",
      "Covariance Type:            nonrobust                                         \n",
      "==============================================================================\n",
      "                 coef    std err          t      P>|t|      [0.025      0.975]\n",
      "------------------------------------------------------------------------------\n",
      "Intercept     -0.4340      0.035    -12.305      0.000      -0.503      -0.365\n",
      "MedInc         0.5399      0.005    108.546      0.000       0.530       0.550\n",
      "HouseAge       0.0162      0.001     29.177      0.000       0.015       0.017\n",
      "AveRooms      -0.2229      0.007    -30.266      0.000      -0.237      -0.208\n",
      "AveBedrms      1.0315      0.037     27.744      0.000       0.959       1.104\n",
      "Population  1.832e-05    6.1e-06      3.001      0.003    6.35e-06    3.03e-05\n",
      "==============================================================================\n",
      "Omnibus:                     2718.092   Durbin-Watson:                   1.981\n",
      "Prob(Omnibus):                  0.000   Jarque-Bera (JB):             8326.313\n",
      "Skew:                           0.973   Prob(JB):                         0.00\n",
      "Kurtosis:                       6.170   Cond. No.                     1.24e+04\n",
      "==============================================================================\n",
      "\n",
      "Warnings:\n",
      "[1] Standard Errors assume that the covariance matrix of the errors is correctly specified.\n",
      "[2] The condition number is large, 1.24e+04. This might indicate that there are\n",
      "strong multicollinearity or other numerical problems.\n"
     ]
    }
   ],
   "source": [
    "result = smf.ols(formula='Target ~ MedInc + HouseAge + AveRooms + AveBedrms + Population', data=trainData).fit()\n",
    "print(result.summary())"
   ]
  },
  {
   "cell_type": "code",
   "execution_count": 22,
   "metadata": {},
   "outputs": [
    {
     "data": {
      "text/plain": [
       "LinearRegression()"
      ]
     },
     "execution_count": 22,
     "metadata": {},
     "output_type": "execute_result"
    }
   ],
   "source": [
    "x = trainData[['MedInc', 'HouseAge', 'AveRooms', 'AveBedrms', 'Population']]\n",
    "y = trainData['Target']\n",
    "model = LinearRegression(fit_intercept=True)\n",
    "model.fit(x, y)"
   ]
  },
  {
   "cell_type": "markdown",
   "metadata": {},
   "source": [
    "### 문제3\n",
    "앞서 문제 3-3에서 학습한 회귀 모형의 성능을 평가하고자 한다. 시험 데이터로서 Xgrp가1 인 모든 데이터를 사용하여 주택가격의 중앙값을 예측하고 모형의 성능을 평균오차제곱를 서술하시오\n",
    "\n",
    "정답: 0.631"
   ]
  },
  {
   "cell_type": "code",
   "execution_count": 31,
   "metadata": {},
   "outputs": [
    {
     "name": "stdout",
     "output_type": "stream",
     "text": [
      "[2.43748357 3.14697017 2.3803096  ... 3.16912516 1.81251267 2.20151844]\n"
     ]
    }
   ],
   "source": [
    "test_x = testData[['MedInc', 'HouseAge', 'AveRooms', 'AveBedrms', 'Population']]\n",
    "test_y = testData['Target']\n",
    "test_predict = model.predict(testX)\n",
    "print(test_predict)"
   ]
  },
  {
   "cell_type": "code",
   "execution_count": 32,
   "metadata": {
    "scrolled": true
   },
   "outputs": [
    {
     "data": {
      "text/plain": [
       "0.6317678459173376"
      ]
     },
     "execution_count": 32,
     "metadata": {},
     "output_type": "execute_result"
    }
   ],
   "source": [
    "mean_squared_error(test_y, test_predict)"
   ]
  },
  {
   "cell_type": "markdown",
   "metadata": {},
   "source": [
    "### 문제4\n",
    "각 변수들 사이의 관계를 구체적으로 살펴보기 위해 주성분 분석(PCA)을 시행하고자 한다. 다음 절차에 따라 주성분 분석을 진행하고 1번째 고유값과 2번째 고유값을 차례대로 기술하시오\n",
    "\n",
    "정답: 1.90926239, 1.29795141\n",
    "\n",
    "참고 사이트: https://m.blog.naver.com/PostView.nhn?blogId=tjdrud1323&logNo=221720259834&proxyReferer=https:%2F%2Fwww.google.com%2F"
   ]
  },
  {
   "cell_type": "code",
   "execution_count": 35,
   "metadata": {},
   "outputs": [
    {
     "data": {
      "text/plain": [
       "Index(['MedInc', 'HouseAge', 'AveRooms', 'AveBedrms', 'Population', 'AveOccup',\n",
       "       'Target', 'Xgrp'],\n",
       "      dtype='object')"
      ]
     },
     "execution_count": 35,
     "metadata": {},
     "output_type": "execute_result"
    }
   ],
   "source": [
    "trainData.columns"
   ]
  },
  {
   "cell_type": "code",
   "execution_count": 103,
   "metadata": {},
   "outputs": [
    {
     "data": {
      "text/html": [
       "<div>\n",
       "<style scoped>\n",
       "    .dataframe tbody tr th:only-of-type {\n",
       "        vertical-align: middle;\n",
       "    }\n",
       "\n",
       "    .dataframe tbody tr th {\n",
       "        vertical-align: top;\n",
       "    }\n",
       "\n",
       "    .dataframe thead th {\n",
       "        text-align: right;\n",
       "    }\n",
       "</style>\n",
       "<table border=\"1\" class=\"dataframe\">\n",
       "  <thead>\n",
       "    <tr style=\"text-align: right;\">\n",
       "      <th></th>\n",
       "      <th>MedInc</th>\n",
       "      <th>HouseAge</th>\n",
       "      <th>AveRooms</th>\n",
       "      <th>AveBedrms</th>\n",
       "      <th>Population</th>\n",
       "      <th>AveOccup</th>\n",
       "      <th>Target</th>\n",
       "    </tr>\n",
       "  </thead>\n",
       "  <tbody>\n",
       "    <tr>\n",
       "      <th>0</th>\n",
       "      <td>2.8333</td>\n",
       "      <td>37.0</td>\n",
       "      <td>5.561321</td>\n",
       "      <td>0.974057</td>\n",
       "      <td>1060.0</td>\n",
       "      <td>2.500000</td>\n",
       "      <td>0.697</td>\n",
       "    </tr>\n",
       "    <tr>\n",
       "      <th>1</th>\n",
       "      <td>2.7730</td>\n",
       "      <td>20.0</td>\n",
       "      <td>3.884141</td>\n",
       "      <td>1.207028</td>\n",
       "      <td>2824.0</td>\n",
       "      <td>2.681861</td>\n",
       "      <td>1.405</td>\n",
       "    </tr>\n",
       "    <tr>\n",
       "      <th>2</th>\n",
       "      <td>1.4511</td>\n",
       "      <td>32.0</td>\n",
       "      <td>4.644689</td>\n",
       "      <td>1.036630</td>\n",
       "      <td>549.0</td>\n",
       "      <td>2.010989</td>\n",
       "      <td>0.652</td>\n",
       "    </tr>\n",
       "    <tr>\n",
       "      <th>3</th>\n",
       "      <td>2.8289</td>\n",
       "      <td>38.0</td>\n",
       "      <td>4.438148</td>\n",
       "      <td>1.031125</td>\n",
       "      <td>3523.0</td>\n",
       "      <td>2.811652</td>\n",
       "      <td>1.683</td>\n",
       "    </tr>\n",
       "    <tr>\n",
       "      <th>4</th>\n",
       "      <td>2.8345</td>\n",
       "      <td>31.0</td>\n",
       "      <td>3.894915</td>\n",
       "      <td>1.127966</td>\n",
       "      <td>2048.0</td>\n",
       "      <td>1.735593</td>\n",
       "      <td>1.838</td>\n",
       "    </tr>\n",
       "    <tr>\n",
       "      <th>...</th>\n",
       "      <td>...</td>\n",
       "      <td>...</td>\n",
       "      <td>...</td>\n",
       "      <td>...</td>\n",
       "      <td>...</td>\n",
       "      <td>...</td>\n",
       "      <td>...</td>\n",
       "    </tr>\n",
       "    <tr>\n",
       "      <th>14439</th>\n",
       "      <td>5.0000</td>\n",
       "      <td>21.0</td>\n",
       "      <td>3.062500</td>\n",
       "      <td>0.875000</td>\n",
       "      <td>29.0</td>\n",
       "      <td>1.812500</td>\n",
       "      <td>0.875</td>\n",
       "    </tr>\n",
       "    <tr>\n",
       "      <th>14440</th>\n",
       "      <td>2.7530</td>\n",
       "      <td>14.0</td>\n",
       "      <td>5.789030</td>\n",
       "      <td>1.170886</td>\n",
       "      <td>1153.0</td>\n",
       "      <td>2.432489</td>\n",
       "      <td>1.111</td>\n",
       "    </tr>\n",
       "    <tr>\n",
       "      <th>14441</th>\n",
       "      <td>4.2083</td>\n",
       "      <td>33.0</td>\n",
       "      <td>5.026163</td>\n",
       "      <td>1.151163</td>\n",
       "      <td>1073.0</td>\n",
       "      <td>3.119186</td>\n",
       "      <td>1.805</td>\n",
       "    </tr>\n",
       "    <tr>\n",
       "      <th>14442</th>\n",
       "      <td>6.7058</td>\n",
       "      <td>44.0</td>\n",
       "      <td>6.335430</td>\n",
       "      <td>0.991614</td>\n",
       "      <td>1235.0</td>\n",
       "      <td>2.589099</td>\n",
       "      <td>4.959</td>\n",
       "    </tr>\n",
       "    <tr>\n",
       "      <th>14443</th>\n",
       "      <td>5.4409</td>\n",
       "      <td>4.0</td>\n",
       "      <td>7.853352</td>\n",
       "      <td>1.089385</td>\n",
       "      <td>2429.0</td>\n",
       "      <td>3.392458</td>\n",
       "      <td>2.051</td>\n",
       "    </tr>\n",
       "  </tbody>\n",
       "</table>\n",
       "<p>14444 rows × 7 columns</p>\n",
       "</div>"
      ],
      "text/plain": [
       "       MedInc  HouseAge  AveRooms  AveBedrms  Population  AveOccup  Target\n",
       "0      2.8333      37.0  5.561321   0.974057      1060.0  2.500000   0.697\n",
       "1      2.7730      20.0  3.884141   1.207028      2824.0  2.681861   1.405\n",
       "2      1.4511      32.0  4.644689   1.036630       549.0  2.010989   0.652\n",
       "3      2.8289      38.0  4.438148   1.031125      3523.0  2.811652   1.683\n",
       "4      2.8345      31.0  3.894915   1.127966      2048.0  1.735593   1.838\n",
       "...       ...       ...       ...        ...         ...       ...     ...\n",
       "14439  5.0000      21.0  3.062500   0.875000        29.0  1.812500   0.875\n",
       "14440  2.7530      14.0  5.789030   1.170886      1153.0  2.432489   1.111\n",
       "14441  4.2083      33.0  5.026163   1.151163      1073.0  3.119186   1.805\n",
       "14442  6.7058      44.0  6.335430   0.991614      1235.0  2.589099   4.959\n",
       "14443  5.4409       4.0  7.853352   1.089385      2429.0  3.392458   2.051\n",
       "\n",
       "[14444 rows x 7 columns]"
      ]
     },
     "execution_count": 103,
     "metadata": {},
     "output_type": "execute_result"
    }
   ],
   "source": [
    "normal_train_data = trainData[['MedInc', 'HouseAge', 'AveRooms', 'AveBedrms', 'Population', 'AveOccup', 'Target']]\n",
    "normal_train_data"
   ]
  },
  {
   "cell_type": "code",
   "execution_count": 112,
   "metadata": {},
   "outputs": [
    {
     "data": {
      "text/html": [
       "<div>\n",
       "<style scoped>\n",
       "    .dataframe tbody tr th:only-of-type {\n",
       "        vertical-align: middle;\n",
       "    }\n",
       "\n",
       "    .dataframe tbody tr th {\n",
       "        vertical-align: top;\n",
       "    }\n",
       "\n",
       "    .dataframe thead th {\n",
       "        text-align: right;\n",
       "    }\n",
       "</style>\n",
       "<table border=\"1\" class=\"dataframe\">\n",
       "  <thead>\n",
       "    <tr style=\"text-align: right;\">\n",
       "      <th></th>\n",
       "      <th>MedIncStd</th>\n",
       "      <th>HouseAgeStd</th>\n",
       "      <th>AveRoomsStd</th>\n",
       "      <th>AveBedrmsStd</th>\n",
       "      <th>PopulationStd</th>\n",
       "      <th>AveOccupStd</th>\n",
       "      <th>TargetStd</th>\n",
       "    </tr>\n",
       "  </thead>\n",
       "  <tbody>\n",
       "    <tr>\n",
       "      <th>0</th>\n",
       "      <td>-0.544217</td>\n",
       "      <td>0.667190</td>\n",
       "      <td>0.060593</td>\n",
       "      <td>-0.308534</td>\n",
       "      <td>-0.321236</td>\n",
       "      <td>-0.051655</td>\n",
       "      <td>-1.187335</td>\n",
       "    </tr>\n",
       "    <tr>\n",
       "      <th>1</th>\n",
       "      <td>-0.575725</td>\n",
       "      <td>-0.688097</td>\n",
       "      <td>-0.715903</td>\n",
       "      <td>0.281825</td>\n",
       "      <td>1.249158</td>\n",
       "      <td>-0.035637</td>\n",
       "      <td>-0.573705</td>\n",
       "    </tr>\n",
       "    <tr>\n",
       "      <th>2</th>\n",
       "      <td>-1.266464</td>\n",
       "      <td>0.268576</td>\n",
       "      <td>-0.363787</td>\n",
       "      <td>-0.149970</td>\n",
       "      <td>-0.776152</td>\n",
       "      <td>-0.094727</td>\n",
       "      <td>-1.226337</td>\n",
       "    </tr>\n",
       "    <tr>\n",
       "      <th>3</th>\n",
       "      <td>-0.546516</td>\n",
       "      <td>0.746912</td>\n",
       "      <td>-0.459410</td>\n",
       "      <td>-0.163919</td>\n",
       "      <td>1.871440</td>\n",
       "      <td>-0.024205</td>\n",
       "      <td>-0.332760</td>\n",
       "    </tr>\n",
       "    <tr>\n",
       "      <th>4</th>\n",
       "      <td>-0.543589</td>\n",
       "      <td>0.188853</td>\n",
       "      <td>-0.710915</td>\n",
       "      <td>0.081480</td>\n",
       "      <td>0.558327</td>\n",
       "      <td>-0.118984</td>\n",
       "      <td>-0.198420</td>\n",
       "    </tr>\n",
       "  </tbody>\n",
       "</table>\n",
       "</div>"
      ],
      "text/plain": [
       "   MedIncStd  HouseAgeStd  AveRoomsStd  AveBedrmsStd  PopulationStd  \\\n",
       "0  -0.544217     0.667190     0.060593     -0.308534      -0.321236   \n",
       "1  -0.575725    -0.688097    -0.715903      0.281825       1.249158   \n",
       "2  -1.266464     0.268576    -0.363787     -0.149970      -0.776152   \n",
       "3  -0.546516     0.746912    -0.459410     -0.163919       1.871440   \n",
       "4  -0.543589     0.188853    -0.710915      0.081480       0.558327   \n",
       "\n",
       "   AveOccupStd  TargetStd  \n",
       "0    -0.051655  -1.187335  \n",
       "1    -0.035637  -0.573705  \n",
       "2    -0.094727  -1.226337  \n",
       "3    -0.024205  -0.332760  \n",
       "4    -0.118984  -0.198420  "
      ]
     },
     "execution_count": 112,
     "metadata": {},
     "output_type": "execute_result"
    }
   ],
   "source": [
    "# 정규화\n",
    "#scaler = StandardScaler()\n",
    "#scaler.fit(normal_train_data)\n",
    "#normal_train_data = scaler.transform(normal_train_data)\n",
    "normal_train_data = StandardScaler().fit_transform(normal_train_data)\n",
    "columns = ['MedIncStd', 'HouseAgeStd', 'AveRoomsStd', 'AveBedrmsStd', 'PopulationStd', 'AveOccupStd','TargetStd']\n",
    "pd.DataFrame(normal_train_data, columns=columns).head()"
   ]
  },
  {
   "cell_type": "code",
   "execution_count": 106,
   "metadata": {},
   "outputs": [
    {
     "data": {
      "text/html": [
       "<div>\n",
       "<style scoped>\n",
       "    .dataframe tbody tr th:only-of-type {\n",
       "        vertical-align: middle;\n",
       "    }\n",
       "\n",
       "    .dataframe tbody tr th {\n",
       "        vertical-align: top;\n",
       "    }\n",
       "\n",
       "    .dataframe thead th {\n",
       "        text-align: right;\n",
       "    }\n",
       "</style>\n",
       "<table border=\"1\" class=\"dataframe\">\n",
       "  <thead>\n",
       "    <tr style=\"text-align: right;\">\n",
       "      <th></th>\n",
       "      <th>principal_component1</th>\n",
       "      <th>principal_component2</th>\n",
       "    </tr>\n",
       "  </thead>\n",
       "  <tbody>\n",
       "    <tr>\n",
       "      <th>0</th>\n",
       "      <td>-0.897614</td>\n",
       "      <td>0.690861</td>\n",
       "    </tr>\n",
       "    <tr>\n",
       "      <th>1</th>\n",
       "      <td>-0.794317</td>\n",
       "      <td>0.668446</td>\n",
       "    </tr>\n",
       "    <tr>\n",
       "      <th>2</th>\n",
       "      <td>-1.364810</td>\n",
       "      <td>1.107650</td>\n",
       "    </tr>\n",
       "    <tr>\n",
       "      <th>3</th>\n",
       "      <td>-0.978891</td>\n",
       "      <td>0.095802</td>\n",
       "    </tr>\n",
       "    <tr>\n",
       "      <th>4</th>\n",
       "      <td>-0.807394</td>\n",
       "      <td>0.183314</td>\n",
       "    </tr>\n",
       "    <tr>\n",
       "      <th>...</th>\n",
       "      <td>...</td>\n",
       "      <td>...</td>\n",
       "    </tr>\n",
       "    <tr>\n",
       "      <th>14439</th>\n",
       "      <td>-0.889177</td>\n",
       "      <td>-0.221346</td>\n",
       "    </tr>\n",
       "    <tr>\n",
       "      <th>14440</th>\n",
       "      <td>-0.221644</td>\n",
       "      <td>1.127376</td>\n",
       "    </tr>\n",
       "    <tr>\n",
       "      <th>14441</th>\n",
       "      <td>-0.090910</td>\n",
       "      <td>0.005363</td>\n",
       "    </tr>\n",
       "    <tr>\n",
       "      <th>14442</th>\n",
       "      <td>1.647256</td>\n",
       "      <td>-2.408463</td>\n",
       "    </tr>\n",
       "    <tr>\n",
       "      <th>14443</th>\n",
       "      <td>1.317125</td>\n",
       "      <td>0.258122</td>\n",
       "    </tr>\n",
       "  </tbody>\n",
       "</table>\n",
       "<p>14444 rows × 2 columns</p>\n",
       "</div>"
      ],
      "text/plain": [
       "       principal_component1  principal_component2\n",
       "0                 -0.897614              0.690861\n",
       "1                 -0.794317              0.668446\n",
       "2                 -1.364810              1.107650\n",
       "3                 -0.978891              0.095802\n",
       "4                 -0.807394              0.183314\n",
       "...                     ...                   ...\n",
       "14439             -0.889177             -0.221346\n",
       "14440             -0.221644              1.127376\n",
       "14441             -0.090910              0.005363\n",
       "14442              1.647256             -2.408463\n",
       "14443              1.317125              0.258122\n",
       "\n",
       "[14444 rows x 2 columns]"
      ]
     },
     "execution_count": 106,
     "metadata": {},
     "output_type": "execute_result"
    }
   ],
   "source": [
    "# 주성분으로 이루어진 데이터 프레임 구성\n",
    "pca = PCA(n_components=2) # 주성분을 몇개로 할지 결정\n",
    "printcipalComponents = pca.fit_transform(normal_train_data)\n",
    "principalDf = pd.DataFrame(data=printcipalComponents, columns = ['principal_component1', 'principal_component2'])\n",
    "principalDf"
   ]
  },
  {
   "cell_type": "code",
   "execution_count": 113,
   "metadata": {},
   "outputs": [
    {
     "data": {
      "text/plain": [
       "(array([2.01253895, 1.61302332, 1.30301792]),\n",
       " array([0.28748566, 0.23041595, 0.18613253]),\n",
       " 0.7040341384359075)"
      ]
     },
     "execution_count": 113,
     "metadata": {},
     "output_type": "execute_result"
    }
   ],
   "source": [
    "pca.explained_variance_, pca.explained_variance_ratio_, sum(pca.explained_variance_ratio_)"
   ]
  },
  {
   "cell_type": "markdown",
   "metadata": {},
   "source": [
    "### 문제5\n",
    "주성분분석 결과를 활용하여 주택가격의 중앙값을 예측하기 위하여 주성분분석의 사위 주성분 3개를 독립변수로 하여 선형모델을 만들고 추정된 선형 회귀 모형의 설명력을 소수점 셋째자리에서 반올림하여 기술하시오\n",
    "\n",
    "- R-squared, Adj. R-squared은 변수들간 코릴레이션이 없으면 같게 나온다."
   ]
  },
  {
   "cell_type": "code",
   "execution_count": 110,
   "metadata": {},
   "outputs": [
    {
     "data": {
      "text/html": [
       "<div>\n",
       "<style scoped>\n",
       "    .dataframe tbody tr th:only-of-type {\n",
       "        vertical-align: middle;\n",
       "    }\n",
       "\n",
       "    .dataframe tbody tr th {\n",
       "        vertical-align: top;\n",
       "    }\n",
       "\n",
       "    .dataframe thead th {\n",
       "        text-align: right;\n",
       "    }\n",
       "</style>\n",
       "<table border=\"1\" class=\"dataframe\">\n",
       "  <thead>\n",
       "    <tr style=\"text-align: right;\">\n",
       "      <th></th>\n",
       "      <th>MedInc</th>\n",
       "      <th>HouseAge</th>\n",
       "      <th>AveRooms</th>\n",
       "      <th>AveBedrms</th>\n",
       "      <th>Population</th>\n",
       "      <th>AveOccup</th>\n",
       "      <th>Target</th>\n",
       "      <th>Xgrp</th>\n",
       "      <th>principal_component1</th>\n",
       "      <th>principal_component2</th>\n",
       "      <th>principal_component3</th>\n",
       "    </tr>\n",
       "  </thead>\n",
       "  <tbody>\n",
       "    <tr>\n",
       "      <th>0</th>\n",
       "      <td>2.8333</td>\n",
       "      <td>37.0</td>\n",
       "      <td>5.561321</td>\n",
       "      <td>0.974057</td>\n",
       "      <td>1060.0</td>\n",
       "      <td>2.500000</td>\n",
       "      <td>0.697</td>\n",
       "      <td>0.0</td>\n",
       "      <td>-0.897614</td>\n",
       "      <td>0.690861</td>\n",
       "      <td>-0.640445</td>\n",
       "    </tr>\n",
       "    <tr>\n",
       "      <th>1</th>\n",
       "      <td>2.7730</td>\n",
       "      <td>20.0</td>\n",
       "      <td>3.884141</td>\n",
       "      <td>1.207028</td>\n",
       "      <td>2824.0</td>\n",
       "      <td>2.681861</td>\n",
       "      <td>1.405</td>\n",
       "      <td>0.0</td>\n",
       "      <td>-0.794317</td>\n",
       "      <td>0.668446</td>\n",
       "      <td>1.302496</td>\n",
       "    </tr>\n",
       "    <tr>\n",
       "      <th>2</th>\n",
       "      <td>1.4511</td>\n",
       "      <td>32.0</td>\n",
       "      <td>4.644689</td>\n",
       "      <td>1.036630</td>\n",
       "      <td>549.0</td>\n",
       "      <td>2.010989</td>\n",
       "      <td>0.652</td>\n",
       "      <td>0.0</td>\n",
       "      <td>-1.364810</td>\n",
       "      <td>1.107650</td>\n",
       "      <td>-0.786194</td>\n",
       "    </tr>\n",
       "    <tr>\n",
       "      <th>3</th>\n",
       "      <td>2.8289</td>\n",
       "      <td>38.0</td>\n",
       "      <td>4.438148</td>\n",
       "      <td>1.031125</td>\n",
       "      <td>3523.0</td>\n",
       "      <td>2.811652</td>\n",
       "      <td>1.683</td>\n",
       "      <td>0.0</td>\n",
       "      <td>-0.978891</td>\n",
       "      <td>0.095802</td>\n",
       "      <td>0.836213</td>\n",
       "    </tr>\n",
       "    <tr>\n",
       "      <th>4</th>\n",
       "      <td>2.8345</td>\n",
       "      <td>31.0</td>\n",
       "      <td>3.894915</td>\n",
       "      <td>1.127966</td>\n",
       "      <td>2048.0</td>\n",
       "      <td>1.735593</td>\n",
       "      <td>1.838</td>\n",
       "      <td>0.0</td>\n",
       "      <td>-0.807394</td>\n",
       "      <td>0.183314</td>\n",
       "      <td>0.227596</td>\n",
       "    </tr>\n",
       "    <tr>\n",
       "      <th>...</th>\n",
       "      <td>...</td>\n",
       "      <td>...</td>\n",
       "      <td>...</td>\n",
       "      <td>...</td>\n",
       "      <td>...</td>\n",
       "      <td>...</td>\n",
       "      <td>...</td>\n",
       "      <td>...</td>\n",
       "      <td>...</td>\n",
       "      <td>...</td>\n",
       "      <td>...</td>\n",
       "    </tr>\n",
       "    <tr>\n",
       "      <th>14439</th>\n",
       "      <td>5.0000</td>\n",
       "      <td>21.0</td>\n",
       "      <td>3.062500</td>\n",
       "      <td>0.875000</td>\n",
       "      <td>29.0</td>\n",
       "      <td>1.812500</td>\n",
       "      <td>0.875</td>\n",
       "      <td>0.0</td>\n",
       "      <td>-0.889177</td>\n",
       "      <td>-0.221346</td>\n",
       "      <td>-0.263480</td>\n",
       "    </tr>\n",
       "    <tr>\n",
       "      <th>14440</th>\n",
       "      <td>2.7530</td>\n",
       "      <td>14.0</td>\n",
       "      <td>5.789030</td>\n",
       "      <td>1.170886</td>\n",
       "      <td>1153.0</td>\n",
       "      <td>2.432489</td>\n",
       "      <td>1.111</td>\n",
       "      <td>0.0</td>\n",
       "      <td>-0.221644</td>\n",
       "      <td>1.127376</td>\n",
       "      <td>0.535801</td>\n",
       "    </tr>\n",
       "    <tr>\n",
       "      <th>14441</th>\n",
       "      <td>4.2083</td>\n",
       "      <td>33.0</td>\n",
       "      <td>5.026163</td>\n",
       "      <td>1.151163</td>\n",
       "      <td>1073.0</td>\n",
       "      <td>3.119186</td>\n",
       "      <td>1.805</td>\n",
       "      <td>0.0</td>\n",
       "      <td>-0.090910</td>\n",
       "      <td>0.005363</td>\n",
       "      <td>-0.426913</td>\n",
       "    </tr>\n",
       "    <tr>\n",
       "      <th>14442</th>\n",
       "      <td>6.7058</td>\n",
       "      <td>44.0</td>\n",
       "      <td>6.335430</td>\n",
       "      <td>0.991614</td>\n",
       "      <td>1235.0</td>\n",
       "      <td>2.589099</td>\n",
       "      <td>4.959</td>\n",
       "      <td>0.0</td>\n",
       "      <td>1.647256</td>\n",
       "      <td>-2.408463</td>\n",
       "      <td>-0.885681</td>\n",
       "    </tr>\n",
       "    <tr>\n",
       "      <th>14443</th>\n",
       "      <td>5.4409</td>\n",
       "      <td>4.0</td>\n",
       "      <td>7.853352</td>\n",
       "      <td>1.089385</td>\n",
       "      <td>2429.0</td>\n",
       "      <td>3.392458</td>\n",
       "      <td>2.051</td>\n",
       "      <td>0.0</td>\n",
       "      <td>1.317125</td>\n",
       "      <td>0.258122</td>\n",
       "      <td>1.976899</td>\n",
       "    </tr>\n",
       "  </tbody>\n",
       "</table>\n",
       "<p>14444 rows × 11 columns</p>\n",
       "</div>"
      ],
      "text/plain": [
       "       MedInc  HouseAge  AveRooms  AveBedrms  Population  AveOccup  Target  \\\n",
       "0      2.8333      37.0  5.561321   0.974057      1060.0  2.500000   0.697   \n",
       "1      2.7730      20.0  3.884141   1.207028      2824.0  2.681861   1.405   \n",
       "2      1.4511      32.0  4.644689   1.036630       549.0  2.010989   0.652   \n",
       "3      2.8289      38.0  4.438148   1.031125      3523.0  2.811652   1.683   \n",
       "4      2.8345      31.0  3.894915   1.127966      2048.0  1.735593   1.838   \n",
       "...       ...       ...       ...        ...         ...       ...     ...   \n",
       "14439  5.0000      21.0  3.062500   0.875000        29.0  1.812500   0.875   \n",
       "14440  2.7530      14.0  5.789030   1.170886      1153.0  2.432489   1.111   \n",
       "14441  4.2083      33.0  5.026163   1.151163      1073.0  3.119186   1.805   \n",
       "14442  6.7058      44.0  6.335430   0.991614      1235.0  2.589099   4.959   \n",
       "14443  5.4409       4.0  7.853352   1.089385      2429.0  3.392458   2.051   \n",
       "\n",
       "       Xgrp  principal_component1  principal_component2  principal_component3  \n",
       "0       0.0             -0.897614              0.690861             -0.640445  \n",
       "1       0.0             -0.794317              0.668446              1.302496  \n",
       "2       0.0             -1.364810              1.107650             -0.786194  \n",
       "3       0.0             -0.978891              0.095802              0.836213  \n",
       "4       0.0             -0.807394              0.183314              0.227596  \n",
       "...     ...                   ...                   ...                   ...  \n",
       "14439   0.0             -0.889177             -0.221346             -0.263480  \n",
       "14440   0.0             -0.221644              1.127376              0.535801  \n",
       "14441   0.0             -0.090910              0.005363             -0.426913  \n",
       "14442   0.0              1.647256             -2.408463             -0.885681  \n",
       "14443   0.0              1.317125              0.258122              1.976899  \n",
       "\n",
       "[14444 rows x 11 columns]"
      ]
     },
     "execution_count": 110,
     "metadata": {},
     "output_type": "execute_result"
    }
   ],
   "source": [
    "pca = PCA(n_components=3) # 주성분을 몇개로 할지 결정\n",
    "printcipalComponents = pca.fit_transform(normal_train_data)\n",
    "principalDf = pd.DataFrame(data=printcipalComponents, columns = ['principal_component1', 'principal_component2', 'principal_component3'])\n",
    "\n",
    "trainData.reset_index(drop=True, inplace=True)\n",
    "principalDf.reset_index(drop=True, inplace=True)\n",
    "\n",
    "regressionData = pd.concat([trainData, principalDf], axis=1)\n",
    "regressionData"
   ]
  },
  {
   "cell_type": "code",
   "execution_count": 111,
   "metadata": {},
   "outputs": [
    {
     "name": "stdout",
     "output_type": "stream",
     "text": [
      "                            OLS Regression Results                            \n",
      "==============================================================================\n",
      "Dep. Variable:                 Target   R-squared:                       0.834\n",
      "Model:                            OLS   Adj. R-squared:                  0.834\n",
      "Method:                 Least Squares   F-statistic:                 2.416e+04\n",
      "Date:                Sun, 06 Sep 2020   Prob (F-statistic):               0.00\n",
      "Time:                        14:18:23   Log-Likelihood:                -9596.8\n",
      "No. Observations:               14444   AIC:                         1.920e+04\n",
      "Df Residuals:                   14440   BIC:                         1.923e+04\n",
      "Df Model:                           3                                         \n",
      "Covariance Type:            nonrobust                                         \n",
      "========================================================================================\n",
      "                           coef    std err          t      P>|t|      [0.025      0.975]\n",
      "----------------------------------------------------------------------------------------\n",
      "Intercept                2.0669      0.004    528.198      0.000       2.059       2.075\n",
      "principal_component1     0.4452      0.003    161.400      0.000       0.440       0.451\n",
      "principal_component2    -0.6619      0.003   -214.810      0.000      -0.668      -0.656\n",
      "principal_component3    -0.0595      0.003    -17.363      0.000      -0.066      -0.053\n",
      "==============================================================================\n",
      "Omnibus:                     1929.465   Durbin-Watson:                   1.986\n",
      "Prob(Omnibus):                  0.000   Jarque-Bera (JB):             6759.154\n",
      "Skew:                           0.662   Prob(JB):                         0.00\n",
      "Kurtosis:                       6.079   Cond. No.                         1.42\n",
      "==============================================================================\n",
      "\n",
      "Warnings:\n",
      "[1] Standard Errors assume that the covariance matrix of the errors is correctly specified.\n"
     ]
    }
   ],
   "source": [
    "result = smf.ols(formula='Target ~ principal_component1 + principal_component2 + principal_component3', data=regressionData).fit()\n",
    "print(result.summary())"
   ]
  },
  {
   "cell_type": "code",
   "execution_count": null,
   "metadata": {},
   "outputs": [],
   "source": []
  },
  {
   "cell_type": "code",
   "execution_count": null,
   "metadata": {},
   "outputs": [],
   "source": []
  }
 ],
 "metadata": {
  "kernelspec": {
   "display_name": "Python 3",
   "language": "python",
   "name": "python3"
  },
  "language_info": {
   "codemirror_mode": {
    "name": "ipython",
    "version": 3
   },
   "file_extension": ".py",
   "mimetype": "text/x-python",
   "name": "python",
   "nbconvert_exporter": "python",
   "pygments_lexer": "ipython3",
   "version": "3.7.6"
  }
 },
 "nbformat": 4,
 "nbformat_minor": 4
}
