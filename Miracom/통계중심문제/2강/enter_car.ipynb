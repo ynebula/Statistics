{
 "cells": [
  {
   "cell_type": "markdown",
   "metadata": {},
   "source": [
    "엔터카는 중고차를 매매를 하는 회사이다. 엔터카 데이터 분석가는 중고 자동차에 대한 판매가격, 누적주행거리, 무게 등의 정보를 활용하여 자동차 사양에 따른 판매가격 예측모델을 만들고자 한다. 분석에 사용할 해당 데이터에 관한 정보는 아래와 같다.\n",
    "1. enter_car_parti.txt : 자동차 사양 중 연속형 테이터 (1,004 Rows, 7 Columns) \n",
    "2. enter_car_part2.txt : 자동차 사양 중 범주형 데이터 (1,004 Rows, 4 Columns\n",
    "각 컬럼의 정보는 다음과 같다. \n",
    "\n",
    "[enter_car_part1.txt]\n",
    "- ID : 자동차ID, (Double)\n",
    "- Price : 판매가격, (Double)\n",
    "- Age : 차량 연식, (Double)\n",
    "- KM : 누적 주행 거리, (Double)\n",
    "- HP : 마력, (Double)\n",
    "- CC : 배기량, (Double)\n",
    "- Weight : 무게, (Double)\n",
    "\n",
    "[enter_car_part2.txt]\n",
    "- ID : 자동차ID (Double)\n",
    "- FuelType : 사용 연료, (String)\n",
    "- TransmissionType : 변속기 타입, (String)\n",
    "- Doors : 문 개수, (Double)"
   ]
  },
  {
   "cell_type": "code",
   "execution_count": 311,
   "metadata": {},
   "outputs": [],
   "source": [
    "import pandas as pd\n",
    "import numpy as np\n",
    "from scipy import stats\n",
    "from sklearn.linear_model import LinearRegression\n",
    "from sklearn.preprocessing import OneHotEncoder\n",
    "import statsmodels.api as sm\n",
    "from statsmodels.stats.anova import anova_lm\n",
    "import matplotlib.pyplot as plt\n",
    "import urllib\n",
    "import statsmodels.api as sm\n",
    "import statsmodels.formula.api as smf\n",
    "from pandas.stats.api import ols"
   ]
  },
  {
   "cell_type": "markdown",
   "metadata": {},
   "source": [
    "## Data read and preprocessing"
   ]
  },
  {
   "cell_type": "code",
   "execution_count": 2,
   "metadata": {},
   "outputs": [],
   "source": [
    "data_continuous = pd.read_csv('enter_car_part1.txt')\n",
    "data_discrete = pd.read_csv('enter_car_part2.txt')"
   ]
  },
  {
   "cell_type": "code",
   "execution_count": 3,
   "metadata": {},
   "outputs": [
    {
     "name": "stdout",
     "output_type": "stream",
     "text": [
      "<class 'pandas.core.frame.DataFrame'> (1004, 7)\n"
     ]
    }
   ],
   "source": [
    "print(type(data_continuous), data_continuous.shape)"
   ]
  },
  {
   "cell_type": "code",
   "execution_count": 4,
   "metadata": {},
   "outputs": [
    {
     "name": "stdout",
     "output_type": "stream",
     "text": [
      "<class 'pandas.core.frame.DataFrame'> (1004, 4)\n"
     ]
    }
   ],
   "source": [
    "print(type(data_discrete), data_discrete.shape)"
   ]
  },
  {
   "cell_type": "markdown",
   "metadata": {},
   "source": [
    "#### 결측치 제거"
   ]
  },
  {
   "cell_type": "code",
   "execution_count": 5,
   "metadata": {},
   "outputs": [
    {
     "data": {
      "text/plain": [
       "(ID        0\n",
       " Price     0\n",
       " Age       0\n",
       " KM        0\n",
       " HP        0\n",
       " CC        0\n",
       " Weight    0\n",
       " dtype: int64,\n",
       " ID                  0\n",
       " FuelType            9\n",
       " TransmissionType    0\n",
       " Doors               0\n",
       " dtype: int64)"
      ]
     },
     "execution_count": 5,
     "metadata": {},
     "output_type": "execute_result"
    }
   ],
   "source": [
    "np.sum(pd.isnull(data_continuous)), np.sum(pd.isnull(data_discrete))"
   ]
  },
  {
   "cell_type": "code",
   "execution_count": 6,
   "metadata": {},
   "outputs": [],
   "source": [
    "# 범주형 데이터에 결측치 제거\n",
    "data_discrete_del_null = data_discrete.dropna(axis=0)"
   ]
  },
  {
   "cell_type": "code",
   "execution_count": 7,
   "metadata": {},
   "outputs": [
    {
     "data": {
      "text/html": [
       "<div>\n",
       "<style scoped>\n",
       "    .dataframe tbody tr th:only-of-type {\n",
       "        vertical-align: middle;\n",
       "    }\n",
       "\n",
       "    .dataframe tbody tr th {\n",
       "        vertical-align: top;\n",
       "    }\n",
       "\n",
       "    .dataframe thead th {\n",
       "        text-align: right;\n",
       "    }\n",
       "</style>\n",
       "<table border=\"1\" class=\"dataframe\">\n",
       "  <thead>\n",
       "    <tr style=\"text-align: right;\">\n",
       "      <th></th>\n",
       "      <th>ID</th>\n",
       "      <th>FuelType</th>\n",
       "      <th>TransmissionType</th>\n",
       "      <th>Doors</th>\n",
       "    </tr>\n",
       "  </thead>\n",
       "  <tbody>\n",
       "    <tr>\n",
       "      <th>0</th>\n",
       "      <td>43.0</td>\n",
       "      <td>Petrol</td>\n",
       "      <td>Manual</td>\n",
       "      <td>2doors</td>\n",
       "    </tr>\n",
       "    <tr>\n",
       "      <th>1</th>\n",
       "      <td>44.0</td>\n",
       "      <td>Diesel</td>\n",
       "      <td>Manual</td>\n",
       "      <td>2doors</td>\n",
       "    </tr>\n",
       "    <tr>\n",
       "      <th>2</th>\n",
       "      <td>45.0</td>\n",
       "      <td>Diesel</td>\n",
       "      <td>Manual</td>\n",
       "      <td>5doors</td>\n",
       "    </tr>\n",
       "    <tr>\n",
       "      <th>3</th>\n",
       "      <td>46.0</td>\n",
       "      <td>Diesel</td>\n",
       "      <td>Manual</td>\n",
       "      <td>5doors</td>\n",
       "    </tr>\n",
       "    <tr>\n",
       "      <th>4</th>\n",
       "      <td>47.0</td>\n",
       "      <td>Diesel</td>\n",
       "      <td>Manual</td>\n",
       "      <td>5doors</td>\n",
       "    </tr>\n",
       "    <tr>\n",
       "      <th>...</th>\n",
       "      <td>...</td>\n",
       "      <td>...</td>\n",
       "      <td>...</td>\n",
       "      <td>...</td>\n",
       "    </tr>\n",
       "    <tr>\n",
       "      <th>999</th>\n",
       "      <td>974.0</td>\n",
       "      <td>Petrol</td>\n",
       "      <td>Manual</td>\n",
       "      <td>4doors</td>\n",
       "    </tr>\n",
       "    <tr>\n",
       "      <th>1000</th>\n",
       "      <td>984.0</td>\n",
       "      <td>Petrol</td>\n",
       "      <td>Manual</td>\n",
       "      <td>4doors</td>\n",
       "    </tr>\n",
       "    <tr>\n",
       "      <th>1001</th>\n",
       "      <td>986.0</td>\n",
       "      <td>Petrol</td>\n",
       "      <td>Automatic</td>\n",
       "      <td>4doors</td>\n",
       "    </tr>\n",
       "    <tr>\n",
       "      <th>1002</th>\n",
       "      <td>991.0</td>\n",
       "      <td>Petrol</td>\n",
       "      <td>Manual</td>\n",
       "      <td>4doors</td>\n",
       "    </tr>\n",
       "    <tr>\n",
       "      <th>1003</th>\n",
       "      <td>1000.0</td>\n",
       "      <td>Petrol</td>\n",
       "      <td>Manual</td>\n",
       "      <td>4doors</td>\n",
       "    </tr>\n",
       "  </tbody>\n",
       "</table>\n",
       "<p>995 rows × 4 columns</p>\n",
       "</div>"
      ],
      "text/plain": [
       "          ID FuelType TransmissionType   Doors\n",
       "0       43.0   Petrol           Manual  2doors\n",
       "1       44.0   Diesel           Manual  2doors\n",
       "2       45.0   Diesel           Manual  5doors\n",
       "3       46.0   Diesel           Manual  5doors\n",
       "4       47.0   Diesel           Manual  5doors\n",
       "...      ...      ...              ...     ...\n",
       "999    974.0   Petrol           Manual  4doors\n",
       "1000   984.0   Petrol           Manual  4doors\n",
       "1001   986.0   Petrol        Automatic  4doors\n",
       "1002   991.0   Petrol           Manual  4doors\n",
       "1003  1000.0   Petrol           Manual  4doors\n",
       "\n",
       "[995 rows x 4 columns]"
      ]
     },
     "execution_count": 7,
     "metadata": {},
     "output_type": "execute_result"
    }
   ],
   "source": [
    "data_discrete_del_null"
   ]
  },
  {
   "cell_type": "markdown",
   "metadata": {},
   "source": [
    "Note: 분석에 앞서 다음 전처리를 수행하고 기본 데이터셋을 만드시오 \n",
    "1. 데이터 A와 데이터 B를 자동차 ID를 기준으로 하나로 합친다 \n",
    "2. 데이터에 결측이 존재하는 경우 삭제 \n",
    "<주의 사항> 브라이틱스 이용자의 경우 결측임에도 공란 ()으로 인식하여 결측으로 여기지 않으므로 이를 발견하여 제거 필요"
   ]
  },
  {
   "cell_type": "code",
   "execution_count": 142,
   "metadata": {},
   "outputs": [],
   "source": [
    "baseData = pd.merge(data_continuous, data_discrete_del_null, how='inner', on='ID')"
   ]
  },
  {
   "cell_type": "code",
   "execution_count": 143,
   "metadata": {},
   "outputs": [
    {
     "data": {
      "text/html": [
       "<div>\n",
       "<style scoped>\n",
       "    .dataframe tbody tr th:only-of-type {\n",
       "        vertical-align: middle;\n",
       "    }\n",
       "\n",
       "    .dataframe tbody tr th {\n",
       "        vertical-align: top;\n",
       "    }\n",
       "\n",
       "    .dataframe thead th {\n",
       "        text-align: right;\n",
       "    }\n",
       "</style>\n",
       "<table border=\"1\" class=\"dataframe\">\n",
       "  <thead>\n",
       "    <tr style=\"text-align: right;\">\n",
       "      <th></th>\n",
       "      <th>ID</th>\n",
       "      <th>Price</th>\n",
       "      <th>Age</th>\n",
       "      <th>KM</th>\n",
       "      <th>HP</th>\n",
       "      <th>CC</th>\n",
       "      <th>Weight</th>\n",
       "      <th>FuelType</th>\n",
       "      <th>TransmissionType</th>\n",
       "      <th>Doors</th>\n",
       "    </tr>\n",
       "  </thead>\n",
       "  <tbody>\n",
       "    <tr>\n",
       "      <th>0</th>\n",
       "      <td>1</td>\n",
       "      <td>13500</td>\n",
       "      <td>23</td>\n",
       "      <td>46986</td>\n",
       "      <td>90</td>\n",
       "      <td>2000</td>\n",
       "      <td>1165</td>\n",
       "      <td>Diesel</td>\n",
       "      <td>Manual</td>\n",
       "      <td>4doors</td>\n",
       "    </tr>\n",
       "    <tr>\n",
       "      <th>1</th>\n",
       "      <td>2</td>\n",
       "      <td>13750</td>\n",
       "      <td>23</td>\n",
       "      <td>72937</td>\n",
       "      <td>90</td>\n",
       "      <td>2000</td>\n",
       "      <td>1165</td>\n",
       "      <td>Diesel</td>\n",
       "      <td>Manual</td>\n",
       "      <td>3doors</td>\n",
       "    </tr>\n",
       "    <tr>\n",
       "      <th>2</th>\n",
       "      <td>3</td>\n",
       "      <td>13950</td>\n",
       "      <td>24</td>\n",
       "      <td>41711</td>\n",
       "      <td>90</td>\n",
       "      <td>2000</td>\n",
       "      <td>1165</td>\n",
       "      <td>Diesel</td>\n",
       "      <td>Manual</td>\n",
       "      <td>4doors</td>\n",
       "    </tr>\n",
       "    <tr>\n",
       "      <th>3</th>\n",
       "      <td>4</td>\n",
       "      <td>14950</td>\n",
       "      <td>26</td>\n",
       "      <td>48000</td>\n",
       "      <td>90</td>\n",
       "      <td>2000</td>\n",
       "      <td>1165</td>\n",
       "      <td>Diesel</td>\n",
       "      <td>Manual</td>\n",
       "      <td>3doors</td>\n",
       "    </tr>\n",
       "    <tr>\n",
       "      <th>4</th>\n",
       "      <td>5</td>\n",
       "      <td>13750</td>\n",
       "      <td>30</td>\n",
       "      <td>38500</td>\n",
       "      <td>90</td>\n",
       "      <td>2000</td>\n",
       "      <td>1170</td>\n",
       "      <td>Diesel</td>\n",
       "      <td>Manual</td>\n",
       "      <td>4doors</td>\n",
       "    </tr>\n",
       "    <tr>\n",
       "      <th>...</th>\n",
       "      <td>...</td>\n",
       "      <td>...</td>\n",
       "      <td>...</td>\n",
       "      <td>...</td>\n",
       "      <td>...</td>\n",
       "      <td>...</td>\n",
       "      <td>...</td>\n",
       "      <td>...</td>\n",
       "      <td>...</td>\n",
       "      <td>...</td>\n",
       "    </tr>\n",
       "    <tr>\n",
       "      <th>990</th>\n",
       "      <td>1000</td>\n",
       "      <td>10950</td>\n",
       "      <td>57</td>\n",
       "      <td>40214</td>\n",
       "      <td>86</td>\n",
       "      <td>1300</td>\n",
       "      <td>1025</td>\n",
       "      <td>Petrol</td>\n",
       "      <td>Manual</td>\n",
       "      <td>4doors</td>\n",
       "    </tr>\n",
       "    <tr>\n",
       "      <th>991</th>\n",
       "      <td>1001</td>\n",
       "      <td>8950</td>\n",
       "      <td>60</td>\n",
       "      <td>40000</td>\n",
       "      <td>86</td>\n",
       "      <td>1300</td>\n",
       "      <td>1000</td>\n",
       "      <td>Petrol</td>\n",
       "      <td>Manual</td>\n",
       "      <td>4doors</td>\n",
       "    </tr>\n",
       "    <tr>\n",
       "      <th>992</th>\n",
       "      <td>1002</td>\n",
       "      <td>8950</td>\n",
       "      <td>66</td>\n",
       "      <td>39222</td>\n",
       "      <td>86</td>\n",
       "      <td>1300</td>\n",
       "      <td>1045</td>\n",
       "      <td>Petrol</td>\n",
       "      <td>Automatic</td>\n",
       "      <td>3doors</td>\n",
       "    </tr>\n",
       "    <tr>\n",
       "      <th>993</th>\n",
       "      <td>1003</td>\n",
       "      <td>8250</td>\n",
       "      <td>66</td>\n",
       "      <td>39144</td>\n",
       "      <td>110</td>\n",
       "      <td>1600</td>\n",
       "      <td>1050</td>\n",
       "      <td>Petrol</td>\n",
       "      <td>Manual</td>\n",
       "      <td>2doors</td>\n",
       "    </tr>\n",
       "    <tr>\n",
       "      <th>994</th>\n",
       "      <td>1004</td>\n",
       "      <td>10250</td>\n",
       "      <td>62</td>\n",
       "      <td>39000</td>\n",
       "      <td>110</td>\n",
       "      <td>1600</td>\n",
       "      <td>1075</td>\n",
       "      <td>Petrol</td>\n",
       "      <td>Manual</td>\n",
       "      <td>2doors</td>\n",
       "    </tr>\n",
       "  </tbody>\n",
       "</table>\n",
       "<p>995 rows × 10 columns</p>\n",
       "</div>"
      ],
      "text/plain": [
       "       ID  Price  Age     KM   HP    CC  Weight FuelType TransmissionType  \\\n",
       "0       1  13500   23  46986   90  2000    1165   Diesel           Manual   \n",
       "1       2  13750   23  72937   90  2000    1165   Diesel           Manual   \n",
       "2       3  13950   24  41711   90  2000    1165   Diesel           Manual   \n",
       "3       4  14950   26  48000   90  2000    1165   Diesel           Manual   \n",
       "4       5  13750   30  38500   90  2000    1170   Diesel           Manual   \n",
       "..    ...    ...  ...    ...  ...   ...     ...      ...              ...   \n",
       "990  1000  10950   57  40214   86  1300    1025   Petrol           Manual   \n",
       "991  1001   8950   60  40000   86  1300    1000   Petrol           Manual   \n",
       "992  1002   8950   66  39222   86  1300    1045   Petrol        Automatic   \n",
       "993  1003   8250   66  39144  110  1600    1050   Petrol           Manual   \n",
       "994  1004  10250   62  39000  110  1600    1075   Petrol           Manual   \n",
       "\n",
       "      Doors  \n",
       "0    4doors  \n",
       "1    3doors  \n",
       "2    4doors  \n",
       "3    3doors  \n",
       "4    4doors  \n",
       "..      ...  \n",
       "990  4doors  \n",
       "991  4doors  \n",
       "992  3doors  \n",
       "993  2doors  \n",
       "994  2doors  \n",
       "\n",
       "[995 rows x 10 columns]"
      ]
     },
     "execution_count": 143,
     "metadata": {},
     "output_type": "execute_result"
    }
   ],
   "source": [
    "baseData"
   ]
  },
  {
   "cell_type": "markdown",
   "metadata": {},
   "source": [
    "#### Doors 기준 평균 확인"
   ]
  },
  {
   "cell_type": "code",
   "execution_count": 144,
   "metadata": {},
   "outputs": [
    {
     "data": {
      "text/plain": [
       "Doors\n",
       "2doors    12371.695431\n",
       "3doors    11422.399061\n",
       "4doors    11283.077193\n",
       "5doors    12407.080000\n",
       "Name: Price, dtype: float64"
      ]
     },
     "execution_count": 144,
     "metadata": {},
     "output_type": "execute_result"
    }
   ],
   "source": [
    "grouped = baseData['Price'].groupby(baseData['Doors'])\n",
    "grouped.mean()"
   ]
  },
  {
   "cell_type": "markdown",
   "metadata": {},
   "source": [
    "[문제 2-1]\n",
    "변속기 타입(TransmissionType)이 판매가격에 영향을 주는지에 대한 통계적 검정을 진행하고자 한다. 적절한 검증 방법을 선택하여 유의수준 10%에서 검증하고 아래의 물음에 답하시오. 귀무가설 기각여부를 Y/N으로 기술, 분산 동질성 여부를 Y/N으로 기술하고 마지막으로 검정 통계량이 발생할 확률을 소수점 셋째 자리까지 작성하 시오(소수점 넷째 자리 미만은 버림)"
   ]
  },
  {
   "cell_type": "code",
   "execution_count": 207,
   "metadata": {},
   "outputs": [
    {
     "data": {
      "text/plain": [
       "array(['Manual', 'Automatic'], dtype=object)"
      ]
     },
     "execution_count": 207,
     "metadata": {},
     "output_type": "execute_result"
    }
   ],
   "source": [
    "baseData.TransmissionType.unique()"
   ]
  },
  {
   "cell_type": "code",
   "execution_count": 208,
   "metadata": {},
   "outputs": [],
   "source": [
    "sampleListTransmissioType = [0 if i == 'Manual' else 1 for i in baseData.TransmissionType]\n",
    "\n",
    "gManual = [baseData.Price[i] for i in range(len(sampleListTransmissioType)) if sampleListTransmissioType[i] == 0]\n",
    "gAutomatic = [baseData.Price[i] for i in range(len(sampleListTransmissioType)) if sampleListTransmissioType[i] == 1]"
   ]
  },
  {
   "cell_type": "code",
   "execution_count": 210,
   "metadata": {},
   "outputs": [
    {
     "data": {
      "text/plain": [
       "((946,), (49,))"
      ]
     },
     "execution_count": 210,
     "metadata": {},
     "output_type": "execute_result"
    }
   ],
   "source": [
    "np.array(gManual).shape, np.array(gAutomatic).shape"
   ]
  },
  {
   "cell_type": "code",
   "execution_count": 220,
   "metadata": {},
   "outputs": [],
   "source": [
    "result = stats.ttest_ind(np.array(gAutomatic), np.array(gManual), equal_var=True)"
   ]
  },
  {
   "cell_type": "markdown",
   "metadata": {},
   "source": [
    "#### 결과\n",
    "유의 수준 10%에서 귀무가설을 기각한다."
   ]
  },
  {
   "cell_type": "code",
   "execution_count": 221,
   "metadata": {},
   "outputs": [
    {
     "data": {
      "text/plain": [
       "Ttest_indResult(statistic=1.6694782121803504, pvalue=0.09533783345926539)"
      ]
     },
     "execution_count": 221,
     "metadata": {},
     "output_type": "execute_result"
    }
   ],
   "source": [
    "result"
   ]
  },
  {
   "cell_type": "markdown",
   "metadata": {},
   "source": [
    "[문제2-2]\n",
    "문 개수가 판매가격에 영향을 주는지에 대한 통계적 검정을 진행하고자 한다. 적절한 검증 방법을 선택하여 유의수준 5%에서 검증하시오."
   ]
  },
  {
   "cell_type": "code",
   "execution_count": 150,
   "metadata": {},
   "outputs": [
    {
     "data": {
      "text/plain": [
       "array(['4doors', '3doors', '2doors', '5doors'], dtype=object)"
      ]
     },
     "execution_count": 150,
     "metadata": {},
     "output_type": "execute_result"
    }
   ],
   "source": [
    "baseData.Doors.unique()"
   ]
  },
  {
   "cell_type": "code",
   "execution_count": 197,
   "metadata": {},
   "outputs": [],
   "source": [
    "sample_list2 = [2 if i == '2doors' else -1 for i in baseData.Doors]\n",
    "sample_list3 = [3 if i == '3doors' else -1 for i in baseData.Doors]\n",
    "sample_list4 = [4 if i == '4doors' else -1 for i in baseData.Doors]\n",
    "sample_list5 = [5 if i == '5doors' else -1 for i in baseData.Doors]"
   ]
  },
  {
   "cell_type": "code",
   "execution_count": 205,
   "metadata": {},
   "outputs": [],
   "source": [
    "sampling2 = [baseData.Price[i] for i in range(len(sample_list2)) if sample_list2[i]>0]\n",
    "sampling3 = [baseData.Price[i] for i in range(len(sample_list3)) if sample_list3[i]>0]\n",
    "sampling4 = [baseData.Price[i] for i in range(len(sample_list4)) if sample_list4[i]>0]\n",
    "sampling5 = [baseData.Price[i] for i in range(len(sample_list5)) if sample_list5[i]>0]"
   ]
  },
  {
   "cell_type": "markdown",
   "metadata": {},
   "source": [
    "#### 결과\n",
    "F 검정 결과 귀무가설 기각 확인\n",
    "- 문에 갯수에 따라서 각경이 다르다"
   ]
  },
  {
   "cell_type": "code",
   "execution_count": 206,
   "metadata": {},
   "outputs": [
    {
     "data": {
      "text/plain": [
       "F_onewayResult(statistic=6.6527610698417705, pvalue=0.0001894354232972141)"
      ]
     },
     "execution_count": 206,
     "metadata": {},
     "output_type": "execute_result"
    }
   ],
   "source": [
    "stats.f_oneway(np.array(sampling2), np.array(sampling3), np.array(sampling4), np.array(sampling5))"
   ]
  },
  {
   "cell_type": "markdown",
   "metadata": {},
   "source": [
    "[문제2-3] Linear Regression(선형 회귀 분석)을 통해 차량 판매가격을 예측하는 모델을 만들고자 한다. Price(가격)을 종속변수로 하고, 연속형 변수에 대해서는 Price와의 Pearson 상관계수의 절대값이 0.3이상인 것들을 독립변수로 사용하고 범주형 데이터는 모두 변수를 Dummy 변수화하여 독립변수로 사용한다. \n",
    "\n",
    "기존변수의 고유한 개수(k)에서 하나를 뺀 개수만큼(k-1)의 Dummy 변수를 만드시오 \n",
    "\n",
    "모델에 들어간 변수들 중 유의수준 1%에서 통계적으로 유의한 변수의 개수(단 상수항은 제외)와 Adjusted R2(조정 결정계수) 값을 차례로 서술하시오"
   ]
  },
  {
   "cell_type": "markdown",
   "metadata": {},
   "source": [
    "#### 피어슨 상관관계"
   ]
  },
  {
   "cell_type": "code",
   "execution_count": 237,
   "metadata": {},
   "outputs": [
    {
     "name": "stdout",
     "output_type": "stream",
     "text": [
      "           Price       Age        KM        HP        CC    Weight\n",
      "Price   1.000000 -0.868557 -0.593607  0.360227  0.187852  0.614633\n",
      "Age    -0.868557  1.000000  0.549199 -0.176203 -0.148005 -0.508140\n",
      "KM     -0.593607  0.549199  1.000000 -0.347763  0.294350 -0.075802\n",
      "HP      0.360227 -0.176203 -0.347763  1.000000  0.021706  0.089929\n",
      "CC      0.187852 -0.148005  0.294350  0.021706  1.000000  0.627700\n",
      "Weight  0.614633 -0.508140 -0.075802  0.089929  0.627700  1.000000\n"
     ]
    }
   ],
   "source": [
    "print(baseData[['Price', 'Age', 'KM', 'HP', 'CC', 'Weight']].corr(method='pearson'))"
   ]
  },
  {
   "cell_type": "markdown",
   "metadata": {},
   "source": [
    "#### Dummy Data 변환 - 원핫 인코딩 으로 변환"
   ]
  },
  {
   "cell_type": "code",
   "execution_count": 256,
   "metadata": {},
   "outputs": [],
   "source": [
    "## 범주형 자료 Dummy로 변환 - , 'FuelType', 'TransmissionType', 'Doors'\n",
    "enc = OneHotEncoder()"
   ]
  },
  {
   "cell_type": "code",
   "execution_count": 257,
   "metadata": {},
   "outputs": [
    {
     "data": {
      "text/plain": [
       "(pandas.core.frame.DataFrame,\n",
       " array(['Diesel', 'Petrol', 'CNG'], dtype=object),\n",
       " 995)"
      ]
     },
     "execution_count": 257,
     "metadata": {},
     "output_type": "execute_result"
    }
   ],
   "source": [
    "type(baseData), baseData.FuelType.unique()"
   ]
  },
  {
   "cell_type": "code",
   "execution_count": 295,
   "metadata": {},
   "outputs": [],
   "source": [
    "tmp = []\n",
    "for x in baseData.FuelType:\n",
    "    if x == 'CNG':\n",
    "        tmp.append(0)\n",
    "    elif x == 'Diesel':\n",
    "        tmp.append(1)\n",
    "    else:\n",
    "        tmp.append(2)\n",
    "tmp = np.array(tmp).reshape(-1, 1)\n",
    "\n",
    "enc.fit(tmp)\n",
    "oneHot = enc.transform(tmp).toarray()\n",
    "df1 = pd.DataFrame(oneHot, columns=['FuelType_CNG', 'FuelType_Diesel', 'FuelType_Petrol'])"
   ]
  },
  {
   "cell_type": "code",
   "execution_count": 269,
   "metadata": {},
   "outputs": [
    {
     "data": {
      "text/plain": [
       "(pandas.core.frame.DataFrame, array(['Manual', 'Automatic'], dtype=object))"
      ]
     },
     "execution_count": 269,
     "metadata": {},
     "output_type": "execute_result"
    }
   ],
   "source": [
    "baseData.TransmissionType.unique()"
   ]
  },
  {
   "cell_type": "code",
   "execution_count": 288,
   "metadata": {},
   "outputs": [
    {
     "data": {
      "text/plain": [
       "(995, 1)"
      ]
     },
     "execution_count": 288,
     "metadata": {},
     "output_type": "execute_result"
    }
   ],
   "source": [
    "tmp = [0 if x == 'Automatic' else 1 for x in baseData.TransmissionType]\n",
    "tmp = np.array(tmp).reshape(-1, 1)\n",
    "tmp.shape\n",
    "\n",
    "enc.fit(tmp)\n",
    "oneHot = enc.transform(tmp).toarray()\n",
    "df2 = pd.DataFrame(oneHot, columns=['TransmissionType_Automatic', 'TransmissionType_Manual'])"
   ]
  },
  {
   "cell_type": "code",
   "execution_count": 281,
   "metadata": {},
   "outputs": [
    {
     "data": {
      "text/plain": [
       "array(['4doors', '3doors', '2doors', '5doors'], dtype=object)"
      ]
     },
     "execution_count": 281,
     "metadata": {},
     "output_type": "execute_result"
    }
   ],
   "source": [
    "baseData.Doors.unique()"
   ]
  },
  {
   "cell_type": "code",
   "execution_count": 294,
   "metadata": {},
   "outputs": [],
   "source": [
    "tmp = []\n",
    "for x in baseData.Doors:\n",
    "    if x == '2doors':\n",
    "        tmp.append(0)\n",
    "    elif x == '3doors':\n",
    "        tmp.append(1)\n",
    "    elif x == '4doors':\n",
    "        tmp.append(2)\n",
    "    else:\n",
    "        tmp.append(3)\n",
    "tmp = np.array(tmp).reshape(-1, 1)\n",
    "\n",
    "enc.fit(tmp)\n",
    "oneHot = enc.transform(tmp).toarray()\n",
    "df3 = pd.DataFrame(oneHot, columns=['Doors_2Doors', 'Doors_3Doors', 'Doors_4Doors', 'Doors_5Doors'])"
   ]
  },
  {
   "cell_type": "code",
   "execution_count": 320,
   "metadata": {},
   "outputs": [
    {
     "data": {
      "text/html": [
       "<div>\n",
       "<style scoped>\n",
       "    .dataframe tbody tr th:only-of-type {\n",
       "        vertical-align: middle;\n",
       "    }\n",
       "\n",
       "    .dataframe tbody tr th {\n",
       "        vertical-align: top;\n",
       "    }\n",
       "\n",
       "    .dataframe thead th {\n",
       "        text-align: right;\n",
       "    }\n",
       "</style>\n",
       "<table border=\"1\" class=\"dataframe\">\n",
       "  <thead>\n",
       "    <tr style=\"text-align: right;\">\n",
       "      <th></th>\n",
       "      <th>ID</th>\n",
       "      <th>Price</th>\n",
       "      <th>Age</th>\n",
       "      <th>KM</th>\n",
       "      <th>HP</th>\n",
       "      <th>CC</th>\n",
       "      <th>Weight</th>\n",
       "      <th>FuelType</th>\n",
       "      <th>TransmissionType</th>\n",
       "      <th>Doors</th>\n",
       "      <th>FuelType_CNG</th>\n",
       "      <th>FuelType_Diesel</th>\n",
       "      <th>FuelType_Petrol</th>\n",
       "      <th>TransmissionType_Automatic</th>\n",
       "      <th>TransmissionType_Manual</th>\n",
       "      <th>Doors_2Doors</th>\n",
       "      <th>Doors_3Doors</th>\n",
       "      <th>Doors_4Doors</th>\n",
       "      <th>Doors_5Doors</th>\n",
       "    </tr>\n",
       "  </thead>\n",
       "  <tbody>\n",
       "    <tr>\n",
       "      <th>0</th>\n",
       "      <td>1</td>\n",
       "      <td>13500</td>\n",
       "      <td>23</td>\n",
       "      <td>46986</td>\n",
       "      <td>90</td>\n",
       "      <td>2000</td>\n",
       "      <td>1165</td>\n",
       "      <td>Diesel</td>\n",
       "      <td>Manual</td>\n",
       "      <td>4doors</td>\n",
       "      <td>0.0</td>\n",
       "      <td>1.0</td>\n",
       "      <td>0.0</td>\n",
       "      <td>0.0</td>\n",
       "      <td>1.0</td>\n",
       "      <td>0.0</td>\n",
       "      <td>0.0</td>\n",
       "      <td>1.0</td>\n",
       "      <td>0.0</td>\n",
       "    </tr>\n",
       "    <tr>\n",
       "      <th>1</th>\n",
       "      <td>2</td>\n",
       "      <td>13750</td>\n",
       "      <td>23</td>\n",
       "      <td>72937</td>\n",
       "      <td>90</td>\n",
       "      <td>2000</td>\n",
       "      <td>1165</td>\n",
       "      <td>Diesel</td>\n",
       "      <td>Manual</td>\n",
       "      <td>3doors</td>\n",
       "      <td>0.0</td>\n",
       "      <td>1.0</td>\n",
       "      <td>0.0</td>\n",
       "      <td>0.0</td>\n",
       "      <td>1.0</td>\n",
       "      <td>0.0</td>\n",
       "      <td>1.0</td>\n",
       "      <td>0.0</td>\n",
       "      <td>0.0</td>\n",
       "    </tr>\n",
       "    <tr>\n",
       "      <th>2</th>\n",
       "      <td>3</td>\n",
       "      <td>13950</td>\n",
       "      <td>24</td>\n",
       "      <td>41711</td>\n",
       "      <td>90</td>\n",
       "      <td>2000</td>\n",
       "      <td>1165</td>\n",
       "      <td>Diesel</td>\n",
       "      <td>Manual</td>\n",
       "      <td>4doors</td>\n",
       "      <td>0.0</td>\n",
       "      <td>1.0</td>\n",
       "      <td>0.0</td>\n",
       "      <td>0.0</td>\n",
       "      <td>1.0</td>\n",
       "      <td>0.0</td>\n",
       "      <td>0.0</td>\n",
       "      <td>1.0</td>\n",
       "      <td>0.0</td>\n",
       "    </tr>\n",
       "    <tr>\n",
       "      <th>3</th>\n",
       "      <td>4</td>\n",
       "      <td>14950</td>\n",
       "      <td>26</td>\n",
       "      <td>48000</td>\n",
       "      <td>90</td>\n",
       "      <td>2000</td>\n",
       "      <td>1165</td>\n",
       "      <td>Diesel</td>\n",
       "      <td>Manual</td>\n",
       "      <td>3doors</td>\n",
       "      <td>0.0</td>\n",
       "      <td>1.0</td>\n",
       "      <td>0.0</td>\n",
       "      <td>0.0</td>\n",
       "      <td>1.0</td>\n",
       "      <td>0.0</td>\n",
       "      <td>1.0</td>\n",
       "      <td>0.0</td>\n",
       "      <td>0.0</td>\n",
       "    </tr>\n",
       "    <tr>\n",
       "      <th>4</th>\n",
       "      <td>5</td>\n",
       "      <td>13750</td>\n",
       "      <td>30</td>\n",
       "      <td>38500</td>\n",
       "      <td>90</td>\n",
       "      <td>2000</td>\n",
       "      <td>1170</td>\n",
       "      <td>Diesel</td>\n",
       "      <td>Manual</td>\n",
       "      <td>4doors</td>\n",
       "      <td>0.0</td>\n",
       "      <td>1.0</td>\n",
       "      <td>0.0</td>\n",
       "      <td>0.0</td>\n",
       "      <td>1.0</td>\n",
       "      <td>0.0</td>\n",
       "      <td>0.0</td>\n",
       "      <td>1.0</td>\n",
       "      <td>0.0</td>\n",
       "    </tr>\n",
       "    <tr>\n",
       "      <th>...</th>\n",
       "      <td>...</td>\n",
       "      <td>...</td>\n",
       "      <td>...</td>\n",
       "      <td>...</td>\n",
       "      <td>...</td>\n",
       "      <td>...</td>\n",
       "      <td>...</td>\n",
       "      <td>...</td>\n",
       "      <td>...</td>\n",
       "      <td>...</td>\n",
       "      <td>...</td>\n",
       "      <td>...</td>\n",
       "      <td>...</td>\n",
       "      <td>...</td>\n",
       "      <td>...</td>\n",
       "      <td>...</td>\n",
       "      <td>...</td>\n",
       "      <td>...</td>\n",
       "      <td>...</td>\n",
       "    </tr>\n",
       "    <tr>\n",
       "      <th>990</th>\n",
       "      <td>1000</td>\n",
       "      <td>10950</td>\n",
       "      <td>57</td>\n",
       "      <td>40214</td>\n",
       "      <td>86</td>\n",
       "      <td>1300</td>\n",
       "      <td>1025</td>\n",
       "      <td>Petrol</td>\n",
       "      <td>Manual</td>\n",
       "      <td>4doors</td>\n",
       "      <td>0.0</td>\n",
       "      <td>0.0</td>\n",
       "      <td>1.0</td>\n",
       "      <td>0.0</td>\n",
       "      <td>1.0</td>\n",
       "      <td>0.0</td>\n",
       "      <td>0.0</td>\n",
       "      <td>1.0</td>\n",
       "      <td>0.0</td>\n",
       "    </tr>\n",
       "    <tr>\n",
       "      <th>991</th>\n",
       "      <td>1001</td>\n",
       "      <td>8950</td>\n",
       "      <td>60</td>\n",
       "      <td>40000</td>\n",
       "      <td>86</td>\n",
       "      <td>1300</td>\n",
       "      <td>1000</td>\n",
       "      <td>Petrol</td>\n",
       "      <td>Manual</td>\n",
       "      <td>4doors</td>\n",
       "      <td>0.0</td>\n",
       "      <td>0.0</td>\n",
       "      <td>1.0</td>\n",
       "      <td>0.0</td>\n",
       "      <td>1.0</td>\n",
       "      <td>0.0</td>\n",
       "      <td>0.0</td>\n",
       "      <td>1.0</td>\n",
       "      <td>0.0</td>\n",
       "    </tr>\n",
       "    <tr>\n",
       "      <th>992</th>\n",
       "      <td>1002</td>\n",
       "      <td>8950</td>\n",
       "      <td>66</td>\n",
       "      <td>39222</td>\n",
       "      <td>86</td>\n",
       "      <td>1300</td>\n",
       "      <td>1045</td>\n",
       "      <td>Petrol</td>\n",
       "      <td>Automatic</td>\n",
       "      <td>3doors</td>\n",
       "      <td>0.0</td>\n",
       "      <td>0.0</td>\n",
       "      <td>1.0</td>\n",
       "      <td>1.0</td>\n",
       "      <td>0.0</td>\n",
       "      <td>0.0</td>\n",
       "      <td>1.0</td>\n",
       "      <td>0.0</td>\n",
       "      <td>0.0</td>\n",
       "    </tr>\n",
       "    <tr>\n",
       "      <th>993</th>\n",
       "      <td>1003</td>\n",
       "      <td>8250</td>\n",
       "      <td>66</td>\n",
       "      <td>39144</td>\n",
       "      <td>110</td>\n",
       "      <td>1600</td>\n",
       "      <td>1050</td>\n",
       "      <td>Petrol</td>\n",
       "      <td>Manual</td>\n",
       "      <td>2doors</td>\n",
       "      <td>0.0</td>\n",
       "      <td>0.0</td>\n",
       "      <td>1.0</td>\n",
       "      <td>0.0</td>\n",
       "      <td>1.0</td>\n",
       "      <td>1.0</td>\n",
       "      <td>0.0</td>\n",
       "      <td>0.0</td>\n",
       "      <td>0.0</td>\n",
       "    </tr>\n",
       "    <tr>\n",
       "      <th>994</th>\n",
       "      <td>1004</td>\n",
       "      <td>10250</td>\n",
       "      <td>62</td>\n",
       "      <td>39000</td>\n",
       "      <td>110</td>\n",
       "      <td>1600</td>\n",
       "      <td>1075</td>\n",
       "      <td>Petrol</td>\n",
       "      <td>Manual</td>\n",
       "      <td>2doors</td>\n",
       "      <td>0.0</td>\n",
       "      <td>0.0</td>\n",
       "      <td>1.0</td>\n",
       "      <td>0.0</td>\n",
       "      <td>1.0</td>\n",
       "      <td>1.0</td>\n",
       "      <td>0.0</td>\n",
       "      <td>0.0</td>\n",
       "      <td>0.0</td>\n",
       "    </tr>\n",
       "  </tbody>\n",
       "</table>\n",
       "<p>995 rows × 19 columns</p>\n",
       "</div>"
      ],
      "text/plain": [
       "       ID  Price  Age     KM   HP    CC  Weight FuelType TransmissionType  \\\n",
       "0       1  13500   23  46986   90  2000    1165   Diesel           Manual   \n",
       "1       2  13750   23  72937   90  2000    1165   Diesel           Manual   \n",
       "2       3  13950   24  41711   90  2000    1165   Diesel           Manual   \n",
       "3       4  14950   26  48000   90  2000    1165   Diesel           Manual   \n",
       "4       5  13750   30  38500   90  2000    1170   Diesel           Manual   \n",
       "..    ...    ...  ...    ...  ...   ...     ...      ...              ...   \n",
       "990  1000  10950   57  40214   86  1300    1025   Petrol           Manual   \n",
       "991  1001   8950   60  40000   86  1300    1000   Petrol           Manual   \n",
       "992  1002   8950   66  39222   86  1300    1045   Petrol        Automatic   \n",
       "993  1003   8250   66  39144  110  1600    1050   Petrol           Manual   \n",
       "994  1004  10250   62  39000  110  1600    1075   Petrol           Manual   \n",
       "\n",
       "      Doors  FuelType_CNG  FuelType_Diesel  FuelType_Petrol  \\\n",
       "0    4doors           0.0              1.0              0.0   \n",
       "1    3doors           0.0              1.0              0.0   \n",
       "2    4doors           0.0              1.0              0.0   \n",
       "3    3doors           0.0              1.0              0.0   \n",
       "4    4doors           0.0              1.0              0.0   \n",
       "..      ...           ...              ...              ...   \n",
       "990  4doors           0.0              0.0              1.0   \n",
       "991  4doors           0.0              0.0              1.0   \n",
       "992  3doors           0.0              0.0              1.0   \n",
       "993  2doors           0.0              0.0              1.0   \n",
       "994  2doors           0.0              0.0              1.0   \n",
       "\n",
       "     TransmissionType_Automatic  TransmissionType_Manual  Doors_2Doors  \\\n",
       "0                           0.0                      1.0           0.0   \n",
       "1                           0.0                      1.0           0.0   \n",
       "2                           0.0                      1.0           0.0   \n",
       "3                           0.0                      1.0           0.0   \n",
       "4                           0.0                      1.0           0.0   \n",
       "..                          ...                      ...           ...   \n",
       "990                         0.0                      1.0           0.0   \n",
       "991                         0.0                      1.0           0.0   \n",
       "992                         1.0                      0.0           0.0   \n",
       "993                         0.0                      1.0           1.0   \n",
       "994                         0.0                      1.0           1.0   \n",
       "\n",
       "     Doors_3Doors  Doors_4Doors  Doors_5Doors  \n",
       "0             0.0           1.0           0.0  \n",
       "1             1.0           0.0           0.0  \n",
       "2             0.0           1.0           0.0  \n",
       "3             1.0           0.0           0.0  \n",
       "4             0.0           1.0           0.0  \n",
       "..            ...           ...           ...  \n",
       "990           0.0           1.0           0.0  \n",
       "991           0.0           1.0           0.0  \n",
       "992           1.0           0.0           0.0  \n",
       "993           0.0           0.0           0.0  \n",
       "994           0.0           0.0           0.0  \n",
       "\n",
       "[995 rows x 19 columns]"
      ]
     },
     "execution_count": 320,
     "metadata": {},
     "output_type": "execute_result"
    }
   ],
   "source": [
    "baseData1 = pd.concat([baseData, df1], axis=1)\n",
    "baseData2 = pd.concat([baseData1, df2], axis=1)\n",
    "baseData3 = pd.concat([baseData2, df3], axis=1)\n",
    "baseData3"
   ]
  },
  {
   "cell_type": "code",
   "execution_count": 326,
   "metadata": {},
   "outputs": [
    {
     "name": "stdout",
     "output_type": "stream",
     "text": [
      "                            OLS Regression Results                            \n",
      "==============================================================================\n",
      "Dep. Variable:                  Price   R-squared:                       0.862\n",
      "Model:                            OLS   Adj. R-squared:                  0.860\n",
      "Method:                 Least Squares   F-statistic:                     612.5\n",
      "Date:                Sun, 06 Sep 2020   Prob (F-statistic):               0.00\n",
      "Time:                        11:16:53   Log-Likelihood:                -8617.7\n",
      "No. Observations:                 995   AIC:                         1.726e+04\n",
      "Df Residuals:                     984   BIC:                         1.731e+04\n",
      "Df Model:                          10                                         \n",
      "Covariance Type:            nonrobust                                         \n",
      "==============================================================================================\n",
      "                                 coef    std err          t      P>|t|      [0.025      0.975]\n",
      "----------------------------------------------------------------------------------------------\n",
      "Intercept                  -2730.3928    682.778     -3.999      0.000   -4070.262   -1390.524\n",
      "Age                         -133.5241      3.916    -34.097      0.000    -141.209    -125.839\n",
      "KM                            -0.0186      0.002    -10.079      0.000      -0.022      -0.015\n",
      "HP                            37.4658      3.997      9.373      0.000      29.622      45.310\n",
      "Weight                        19.4127      1.301     14.917      0.000      16.859      21.967\n",
      "FuelType_CNG               -1580.2389    366.315     -4.314      0.000   -2299.087    -861.390\n",
      "FuelType_Diesel             -729.5622    358.713     -2.034      0.042   -1433.494     -25.631\n",
      "FuelType_Petrol             -420.5917    213.274     -1.972      0.049    -839.115      -2.068\n",
      "TransmissionType_Automatic -1266.3259    381.097     -3.323      0.001   -2014.183    -518.469\n",
      "TransmissionType_Manual    -1464.0669    331.837     -4.412      0.000   -2115.256    -812.878\n",
      "Doors_2Doors                -693.4670    188.536     -3.678      0.000   -1063.446    -323.488\n",
      "Doors_3Doors                -653.2509    189.398     -3.449      0.001   -1024.922    -281.580\n",
      "Doors_4Doors                -693.5329    184.372     -3.762      0.000   -1055.340    -331.726\n",
      "Doors_5Doors                -690.1419    190.144     -3.630      0.000   -1063.277    -317.007\n",
      "==============================================================================\n",
      "Omnibus:                      177.842   Durbin-Watson:                   1.616\n",
      "Prob(Omnibus):                  0.000   Jarque-Bera (JB):             1422.426\n",
      "Skew:                          -0.573   Prob(JB):                    1.33e-309\n",
      "Kurtosis:                       8.744   Cond. No.                     1.61e+22\n",
      "==============================================================================\n",
      "\n",
      "Warnings:\n",
      "[1] Standard Errors assume that the covariance matrix of the errors is correctly specified.\n",
      "[2] The smallest eigenvalue is 1.98e-32. This might indicate that there are\n",
      "strong multicollinearity problems or that the design matrix is singular.\n"
     ]
    }
   ],
   "source": [
    "result = ols(formula='Price ~ Age + KM + HP + Weight + FuelType_CNG + FuelType_Diesel + FuelType_Petrol + TransmissionType_Automatic + TransmissionType_Manual + Doors_2Doors + Doors_3Doors + Doors_4Doors + Doors_5Doors', data=baseData3).fit()\n",
    "print(result.summary())"
   ]
  },
  {
   "cell_type": "code",
   "execution_count": 328,
   "metadata": {},
   "outputs": [
    {
     "name": "stdout",
     "output_type": "stream",
     "text": [
      "                            OLS Regression Results                            \n",
      "==============================================================================\n",
      "Dep. Variable:                  Price   R-squared:                       0.862\n",
      "Model:                            OLS   Adj. R-squared:                  0.860\n",
      "Method:                 Least Squares   F-statistic:                     612.5\n",
      "Date:                Sun, 06 Sep 2020   Prob (F-statistic):               0.00\n",
      "Time:                        11:17:17   Log-Likelihood:                -8617.7\n",
      "No. Observations:                 995   AIC:                         1.726e+04\n",
      "Df Residuals:                     984   BIC:                         1.731e+04\n",
      "Df Model:                          10                                         \n",
      "Covariance Type:            nonrobust                                         \n",
      "==============================================================================================\n",
      "                                 coef    std err          t      P>|t|      [0.025      0.975]\n",
      "----------------------------------------------------------------------------------------------\n",
      "Intercept                  -3470.8819    904.454     -3.838      0.000   -5245.763   -1696.001\n",
      "Age                         -133.5241      3.916    -34.097      0.000    -141.209    -125.839\n",
      "KM                            -0.0186      0.002    -10.079      0.000      -0.022      -0.015\n",
      "HP                            37.4658      3.997      9.373      0.000      29.622      45.310\n",
      "Weight                        19.4127      1.301     14.917      0.000      16.859      21.967\n",
      "FuelType_CNG               -1159.6473    419.575     -2.764      0.006   -1983.011    -336.283\n",
      "FuelType_Diesel             -308.9705    262.694     -1.176      0.240    -824.476     206.535\n",
      "TransmissionType_Automatic -1636.5704    489.302     -3.345      0.001   -2596.765    -676.376\n",
      "TransmissionType_Manual    -1834.3114    438.019     -4.188      0.000   -2693.870    -974.752\n",
      "Doors_2Doors                  -3.3250    129.352     -0.026      0.979    -257.163     250.513\n",
      "Doors_3Doors                  36.8910    127.399      0.290      0.772    -213.114     286.896\n",
      "Doors_4Doors                  -3.3910    118.022     -0.029      0.977    -234.994     228.212\n",
      "==============================================================================\n",
      "Omnibus:                      177.842   Durbin-Watson:                   1.616\n",
      "Prob(Omnibus):                  0.000   Jarque-Bera (JB):             1422.426\n",
      "Skew:                          -0.573   Prob(JB):                    1.33e-309\n",
      "Kurtosis:                       8.744   Cond. No.                     6.54e+20\n",
      "==============================================================================\n",
      "\n",
      "Warnings:\n",
      "[1] Standard Errors assume that the covariance matrix of the errors is correctly specified.\n",
      "[2] The smallest eigenvalue is 1.19e-29. This might indicate that there are\n",
      "strong multicollinearity problems or that the design matrix is singular.\n"
     ]
    }
   ],
   "source": [
    "result = smf.ols(formula='Price ~ Age + KM + HP + Weight + FuelType_CNG + FuelType_Diesel + TransmissionType_Automatic + TransmissionType_Manual + Doors_2Doors + Doors_3Doors + Doors_4Doors', data=baseData3).fit()\n",
    "print(result.summary())"
   ]
  },
  {
   "cell_type": "code",
   "execution_count": null,
   "metadata": {},
   "outputs": [],
   "source": []
  },
  {
   "cell_type": "markdown",
   "metadata": {},
   "source": [
    "[문제2-4]문제 3에서 생성된 모델을 이용하여 차량 연식(Age) 7년 누적주행거리(KM) 12,500KM, 115마력(HP) 배기량(CC) 3000CC, 무게(Weight) 1230Kg, 사용연료(FuelType) Diesel, 변속기 타입(TransmissionType) Automatic, 문 개수(Doors) 4doors인 차량의 판매각겨을 예측하시오"
   ]
  },
  {
   "cell_type": "code",
   "execution_count": 332,
   "metadata": {},
   "outputs": [
    {
     "data": {
      "text/plain": [
       "LinearRegression()"
      ]
     },
     "execution_count": 332,
     "metadata": {},
     "output_type": "execute_result"
    }
   ],
   "source": [
    "x = baseData3[['Age', 'KM', 'HP', 'Weight', 'FuelType_CNG', 'FuelType_Diesel', 'FuelType_Petrol', 'TransmissionType_Automatic', 'TransmissionType_Manual', 'Doors_2Doors', 'Doors_3Doors', 'Doors_4Doors', 'Doors_5Doors']]\n",
    "y = baseData3['Price']\n",
    "\n",
    "model = LinearRegression(fit_intercept=True)\n",
    "model.fit(x, y) "
   ]
  },
  {
   "cell_type": "code",
   "execution_count": 333,
   "metadata": {},
   "outputs": [
    {
     "data": {
      "text/plain": [
       "array([21599.4406351])"
      ]
     },
     "execution_count": 333,
     "metadata": {},
     "output_type": "execute_result"
    }
   ],
   "source": [
    "preData = [[7, 12500, 115, 1230, 0, 1, 0, 1, 0, 0, 0, 1, 0]]\n",
    "my_predict = model.predict(preData)\n",
    "my_predict"
   ]
  },
  {
   "cell_type": "code",
   "execution_count": null,
   "metadata": {},
   "outputs": [],
   "source": []
  },
  {
   "cell_type": "code",
   "execution_count": null,
   "metadata": {},
   "outputs": [],
   "source": []
  },
  {
   "cell_type": "code",
   "execution_count": null,
   "metadata": {},
   "outputs": [],
   "source": []
  },
  {
   "cell_type": "code",
   "execution_count": null,
   "metadata": {},
   "outputs": [],
   "source": []
  }
 ],
 "metadata": {
  "kernelspec": {
   "display_name": "Python 3",
   "language": "python",
   "name": "python3"
  },
  "language_info": {
   "codemirror_mode": {
    "name": "ipython",
    "version": 3
   },
   "file_extension": ".py",
   "mimetype": "text/x-python",
   "name": "python",
   "nbconvert_exporter": "python",
   "pygments_lexer": "ipython3",
   "version": "3.7.6"
  }
 },
 "nbformat": 4,
 "nbformat_minor": 4
}
