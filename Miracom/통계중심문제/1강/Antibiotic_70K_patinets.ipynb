{
 "cells": [
  {
   "cell_type": "markdown",
   "metadata": {},
   "source": [
    "다음은 미국 동부지역의 환자 7만명의 항생제 투여와 클로스트리움 디피실균의 감염 여부를 기록한 데이터다. \n",
    "항생제 투여 정보는 일 단위로 기록되어 있고, 하루에 2회 이상 투여하는 경우도 존재한다.\n",
    "- 데이터: Antibiotic_70K_patinet.txt(구분자: \",\"(comma), 70,000 row, 8 columns)\n",
    "- ID: 환자 고유 번호(숫자형)\n",
    "- total_d: 내원기간 중 항생제 누적 투여일수(숫자형)\n",
    "- hight_d: 내원기간 중 고위험군 항생제 누적 투여일수 (숫자형)\n",
    "- low_d: 내원기간 중 저위험군 항생제 누적 투여일수 (숫자형)\n",
    "- non_high_d: 고위험군 항생제 투여일수를 제외한 항생제 누적 투여일 수 (숫자형)\n",
    "- high_p: 고위험군 항생제 투여 비중 (숫자형)\n",
    "- cdiff:클로스트리디움 디피실균의 감염 여부 (숫자형)\n",
    "- age_5: 나이대, 20세부터 5세 단위로 (숫자형)"
   ]
  },
  {
   "cell_type": "code",
   "execution_count": 1,
   "metadata": {},
   "outputs": [],
   "source": [
    "import pandas as pd\n",
    "import numpy as np\n",
    "from scipy import stats\n",
    "from sklearn.linear_model import LogisticRegression\n",
    "import statsmodels.api as sm"
   ]
  },
  {
   "cell_type": "markdown",
   "metadata": {},
   "source": [
    "## Data read and preprocessing"
   ]
  },
  {
   "cell_type": "code",
   "execution_count": 3,
   "metadata": {},
   "outputs": [],
   "source": [
    "data = pd.read_csv('Antibiotic_70K_patinets.txt')"
   ]
  },
  {
   "cell_type": "code",
   "execution_count": 7,
   "metadata": {},
   "outputs": [
    {
     "name": "stdout",
     "output_type": "stream",
     "text": [
      "<class 'pandas.core.frame.DataFrame'> (70000, 8) <class 'numpy.float64'>\n"
     ]
    }
   ],
   "source": [
    "print(type(data), data.shape, type(data.high_p[0]))"
   ]
  },
  {
   "cell_type": "code",
   "execution_count": 5,
   "metadata": {},
   "outputs": [
    {
     "data": {
      "text/html": [
       "<div>\n",
       "<style scoped>\n",
       "    .dataframe tbody tr th:only-of-type {\n",
       "        vertical-align: middle;\n",
       "    }\n",
       "\n",
       "    .dataframe tbody tr th {\n",
       "        vertical-align: top;\n",
       "    }\n",
       "\n",
       "    .dataframe thead th {\n",
       "        text-align: right;\n",
       "    }\n",
       "</style>\n",
       "<table border=\"1\" class=\"dataframe\">\n",
       "  <thead>\n",
       "    <tr style=\"text-align: right;\">\n",
       "      <th></th>\n",
       "      <th>ID</th>\n",
       "      <th>total_d</th>\n",
       "      <th>high_d</th>\n",
       "      <th>low_d</th>\n",
       "      <th>none_high_d</th>\n",
       "      <th>high_p</th>\n",
       "      <th>cdiff</th>\n",
       "      <th>age_5</th>\n",
       "    </tr>\n",
       "  </thead>\n",
       "  <tbody>\n",
       "    <tr>\n",
       "      <th>0</th>\n",
       "      <td>1</td>\n",
       "      <td>2</td>\n",
       "      <td>1</td>\n",
       "      <td>2</td>\n",
       "      <td>1</td>\n",
       "      <td>50.00</td>\n",
       "      <td>1</td>\n",
       "      <td>1</td>\n",
       "    </tr>\n",
       "    <tr>\n",
       "      <th>1</th>\n",
       "      <td>2</td>\n",
       "      <td>25</td>\n",
       "      <td>9</td>\n",
       "      <td>16</td>\n",
       "      <td>16</td>\n",
       "      <td>36.00</td>\n",
       "      <td>1</td>\n",
       "      <td>5</td>\n",
       "    </tr>\n",
       "    <tr>\n",
       "      <th>2</th>\n",
       "      <td>3</td>\n",
       "      <td>6</td>\n",
       "      <td>0</td>\n",
       "      <td>6</td>\n",
       "      <td>6</td>\n",
       "      <td>0.00</td>\n",
       "      <td>1</td>\n",
       "      <td>4</td>\n",
       "    </tr>\n",
       "    <tr>\n",
       "      <th>3</th>\n",
       "      <td>4</td>\n",
       "      <td>7</td>\n",
       "      <td>6</td>\n",
       "      <td>6</td>\n",
       "      <td>1</td>\n",
       "      <td>85.71</td>\n",
       "      <td>1</td>\n",
       "      <td>4</td>\n",
       "    </tr>\n",
       "    <tr>\n",
       "      <th>4</th>\n",
       "      <td>5</td>\n",
       "      <td>4</td>\n",
       "      <td>3</td>\n",
       "      <td>2</td>\n",
       "      <td>1</td>\n",
       "      <td>75.00</td>\n",
       "      <td>1</td>\n",
       "      <td>3</td>\n",
       "    </tr>\n",
       "  </tbody>\n",
       "</table>\n",
       "</div>"
      ],
      "text/plain": [
       "   ID  total_d  high_d  low_d  none_high_d  high_p  cdiff  age_5\n",
       "0   1        2       1      2            1   50.00      1      1\n",
       "1   2       25       9     16           16   36.00      1      5\n",
       "2   3        6       0      6            6    0.00      1      4\n",
       "3   4        7       6      6            1   85.71      1      4\n",
       "4   5        4       3      2            1   75.00      1      3"
      ]
     },
     "execution_count": 5,
     "metadata": {},
     "output_type": "execute_result"
    }
   ],
   "source": [
    "data.head()"
   ]
  },
  {
   "cell_type": "code",
   "execution_count": 19,
   "metadata": {},
   "outputs": [
    {
     "data": {
      "text/html": [
       "<div>\n",
       "<style scoped>\n",
       "    .dataframe tbody tr th:only-of-type {\n",
       "        vertical-align: middle;\n",
       "    }\n",
       "\n",
       "    .dataframe tbody tr th {\n",
       "        vertical-align: top;\n",
       "    }\n",
       "\n",
       "    .dataframe thead th {\n",
       "        text-align: right;\n",
       "    }\n",
       "</style>\n",
       "<table border=\"1\" class=\"dataframe\">\n",
       "  <thead>\n",
       "    <tr style=\"text-align: right;\">\n",
       "      <th></th>\n",
       "      <th>ID</th>\n",
       "      <th>total_d</th>\n",
       "      <th>high_d</th>\n",
       "      <th>low_d</th>\n",
       "      <th>none_high_d</th>\n",
       "      <th>high_p</th>\n",
       "      <th>cdiff</th>\n",
       "      <th>age_5</th>\n",
       "    </tr>\n",
       "  </thead>\n",
       "  <tbody>\n",
       "    <tr>\n",
       "      <th>count</th>\n",
       "      <td>70000.000000</td>\n",
       "      <td>70000.000000</td>\n",
       "      <td>70000.000000</td>\n",
       "      <td>70000.000000</td>\n",
       "      <td>70000.000000</td>\n",
       "      <td>70000.000000</td>\n",
       "      <td>70000.000000</td>\n",
       "      <td>70000.00000</td>\n",
       "    </tr>\n",
       "    <tr>\n",
       "      <th>mean</th>\n",
       "      <td>35000.500000</td>\n",
       "      <td>8.049771</td>\n",
       "      <td>3.774386</td>\n",
       "      <td>6.131871</td>\n",
       "      <td>4.275386</td>\n",
       "      <td>42.254031</td>\n",
       "      <td>0.021471</td>\n",
       "      <td>2.74870</td>\n",
       "    </tr>\n",
       "    <tr>\n",
       "      <th>std</th>\n",
       "      <td>20207.403759</td>\n",
       "      <td>13.885638</td>\n",
       "      <td>8.795789</td>\n",
       "      <td>11.502711</td>\n",
       "      <td>7.950063</td>\n",
       "      <td>39.836986</td>\n",
       "      <td>0.144951</td>\n",
       "      <td>1.56102</td>\n",
       "    </tr>\n",
       "    <tr>\n",
       "      <th>min</th>\n",
       "      <td>1.000000</td>\n",
       "      <td>2.000000</td>\n",
       "      <td>0.000000</td>\n",
       "      <td>0.000000</td>\n",
       "      <td>0.000000</td>\n",
       "      <td>0.000000</td>\n",
       "      <td>0.000000</td>\n",
       "      <td>1.00000</td>\n",
       "    </tr>\n",
       "    <tr>\n",
       "      <th>25%</th>\n",
       "      <td>17500.750000</td>\n",
       "      <td>2.000000</td>\n",
       "      <td>0.000000</td>\n",
       "      <td>2.000000</td>\n",
       "      <td>1.000000</td>\n",
       "      <td>0.000000</td>\n",
       "      <td>0.000000</td>\n",
       "      <td>1.00000</td>\n",
       "    </tr>\n",
       "    <tr>\n",
       "      <th>50%</th>\n",
       "      <td>35000.500000</td>\n",
       "      <td>4.000000</td>\n",
       "      <td>2.000000</td>\n",
       "      <td>3.000000</td>\n",
       "      <td>2.000000</td>\n",
       "      <td>37.500000</td>\n",
       "      <td>0.000000</td>\n",
       "      <td>3.00000</td>\n",
       "    </tr>\n",
       "    <tr>\n",
       "      <th>75%</th>\n",
       "      <td>52500.250000</td>\n",
       "      <td>8.000000</td>\n",
       "      <td>4.000000</td>\n",
       "      <td>6.000000</td>\n",
       "      <td>4.000000</td>\n",
       "      <td>80.000000</td>\n",
       "      <td>0.000000</td>\n",
       "      <td>4.00000</td>\n",
       "    </tr>\n",
       "    <tr>\n",
       "      <th>max</th>\n",
       "      <td>70000.000000</td>\n",
       "      <td>526.000000</td>\n",
       "      <td>368.000000</td>\n",
       "      <td>397.000000</td>\n",
       "      <td>294.000000</td>\n",
       "      <td>100.000000</td>\n",
       "      <td>1.000000</td>\n",
       "      <td>7.00000</td>\n",
       "    </tr>\n",
       "  </tbody>\n",
       "</table>\n",
       "</div>"
      ],
      "text/plain": [
       "                 ID       total_d        high_d         low_d   none_high_d  \\\n",
       "count  70000.000000  70000.000000  70000.000000  70000.000000  70000.000000   \n",
       "mean   35000.500000      8.049771      3.774386      6.131871      4.275386   \n",
       "std    20207.403759     13.885638      8.795789     11.502711      7.950063   \n",
       "min        1.000000      2.000000      0.000000      0.000000      0.000000   \n",
       "25%    17500.750000      2.000000      0.000000      2.000000      1.000000   \n",
       "50%    35000.500000      4.000000      2.000000      3.000000      2.000000   \n",
       "75%    52500.250000      8.000000      4.000000      6.000000      4.000000   \n",
       "max    70000.000000    526.000000    368.000000    397.000000    294.000000   \n",
       "\n",
       "             high_p         cdiff        age_5  \n",
       "count  70000.000000  70000.000000  70000.00000  \n",
       "mean      42.254031      0.021471      2.74870  \n",
       "std       39.836986      0.144951      1.56102  \n",
       "min        0.000000      0.000000      1.00000  \n",
       "25%        0.000000      0.000000      1.00000  \n",
       "50%       37.500000      0.000000      3.00000  \n",
       "75%       80.000000      0.000000      4.00000  \n",
       "max      100.000000      1.000000      7.00000  "
      ]
     },
     "execution_count": 19,
     "metadata": {},
     "output_type": "execute_result"
    }
   ],
   "source": [
    "# Descriptive statics\n",
    "data.describe()"
   ]
  },
  {
   "cell_type": "markdown",
   "metadata": {},
   "source": [
    "### 문제1) 각 나이대별로 저 위험군 항생제 투여일수를 확인하고자 한다. 저위험군 항생제 투여 일수 비중 평균이 가장 낮은 나이대(age_5)를 기술하시오"
   ]
  },
  {
   "cell_type": "code",
   "execution_count": 20,
   "metadata": {},
   "outputs": [],
   "source": [
    "grouped = data['low_d'].groupby(data['age_5'])"
   ]
  },
  {
   "cell_type": "code",
   "execution_count": 23,
   "metadata": {},
   "outputs": [
    {
     "data": {
      "text/plain": [
       "age_5\n",
       "1      1.532426\n",
       "2      2.213510\n",
       "3      3.239355\n",
       "4      5.685472\n",
       "5     15.670451\n",
       "6     52.831301\n",
       "7    122.588745\n",
       "Name: low_d, dtype: float64"
      ]
     },
     "execution_count": 23,
     "metadata": {},
     "output_type": "execute_result"
    }
   ],
   "source": [
    "grouped.mean()\n",
    "# grouped.size()\n",
    "# grouped.sum()"
   ]
  },
  {
   "cell_type": "markdown",
   "metadata": {},
   "source": [
    "### 문제2) 분석에 앞서 결측치와 이상치를 확인하고자 한다.\n",
    "- 각 변수별 결측치 개수와 총합을 구하시오\n",
    "\n",
    "[정답] \n",
    "- null count 0\n",
    "- 1258"
   ]
  },
  {
   "cell_type": "code",
   "execution_count": 24,
   "metadata": {},
   "outputs": [
    {
     "data": {
      "text/plain": [
       "ID             0\n",
       "total_d        0\n",
       "high_d         0\n",
       "low_d          0\n",
       "none_high_d    0\n",
       "high_p         0\n",
       "cdiff          0\n",
       "age_5          0\n",
       "dtype: int64"
      ]
     },
     "execution_count": 24,
     "metadata": {},
     "output_type": "execute_result"
    }
   ],
   "source": [
    "# Check the missing value\n",
    "np.sum(pd.isnull(data))"
   ]
  },
  {
   "cell_type": "markdown",
   "metadata": {},
   "source": [
    "- 항생제 누적투여일수(total_d) 값이 이상치를 보이는 환자의 수를 구하시오\n",
    "- 이상치의 기준은 아래와 같이 정의하고 평균과 표준편차는 소수점 둘째 자리에서 버림하여 첫째 자리까지 사용\n",
    "- 이상치: X>평균 + 3*표준편차 또는 X<평균-3*표준편차"
   ]
  },
  {
   "cell_type": "code",
   "execution_count": 26,
   "metadata": {},
   "outputs": [],
   "source": [
    "def count_outlier(x):\n",
    "    mean_x = np.mean(x)    # 평균\n",
    "    sd_x = np.std(x)       # 표준편차\n",
    "    over_three_sigma = mean_x + 3*sd_x\n",
    "    under_three_sigma = mean_x - 3*sd_x\n",
    "    count_under_3sigma = len(x[x<under_three_sigma])    # 3표준편차 보다 작은 갯수\n",
    "    count_over_3sigma = len(x[x>over_three_sigma])      # 3표준편차 보다 큰 갯수\n",
    "    count_outlier_obs = count_under_3sigma + count_over_3sigma    # 아웃라이어 갯수\n",
    "    \n",
    "    return(count_outlier_obs)"
   ]
  },
  {
   "cell_type": "code",
   "execution_count": 28,
   "metadata": {},
   "outputs": [],
   "source": [
    "# 모든 데이터의 열 계산\n",
    "# data.apply -> 각 열 또는 행 별로 함수를 진행하라\n",
    "result = data.apply(lambda x:count_outlier(x)).to_frame(name='result').reset_index()"
   ]
  },
  {
   "cell_type": "code",
   "execution_count": 29,
   "metadata": {},
   "outputs": [
    {
     "data": {
      "text/html": [
       "<div>\n",
       "<style scoped>\n",
       "    .dataframe tbody tr th:only-of-type {\n",
       "        vertical-align: middle;\n",
       "    }\n",
       "\n",
       "    .dataframe tbody tr th {\n",
       "        vertical-align: top;\n",
       "    }\n",
       "\n",
       "    .dataframe thead th {\n",
       "        text-align: right;\n",
       "    }\n",
       "</style>\n",
       "<table border=\"1\" class=\"dataframe\">\n",
       "  <thead>\n",
       "    <tr style=\"text-align: right;\">\n",
       "      <th></th>\n",
       "      <th>index</th>\n",
       "      <th>result</th>\n",
       "    </tr>\n",
       "  </thead>\n",
       "  <tbody>\n",
       "    <tr>\n",
       "      <th>0</th>\n",
       "      <td>ID</td>\n",
       "      <td>0</td>\n",
       "    </tr>\n",
       "    <tr>\n",
       "      <th>1</th>\n",
       "      <td>total_d</td>\n",
       "      <td>1258</td>\n",
       "    </tr>\n",
       "    <tr>\n",
       "      <th>2</th>\n",
       "      <td>high_d</td>\n",
       "      <td>1095</td>\n",
       "    </tr>\n",
       "    <tr>\n",
       "      <th>3</th>\n",
       "      <td>low_d</td>\n",
       "      <td>1211</td>\n",
       "    </tr>\n",
       "    <tr>\n",
       "      <th>4</th>\n",
       "      <td>none_high_d</td>\n",
       "      <td>1157</td>\n",
       "    </tr>\n",
       "    <tr>\n",
       "      <th>5</th>\n",
       "      <td>high_p</td>\n",
       "      <td>0</td>\n",
       "    </tr>\n",
       "    <tr>\n",
       "      <th>6</th>\n",
       "      <td>cdiff</td>\n",
       "      <td>1503</td>\n",
       "    </tr>\n",
       "    <tr>\n",
       "      <th>7</th>\n",
       "      <td>age_5</td>\n",
       "      <td>0</td>\n",
       "    </tr>\n",
       "  </tbody>\n",
       "</table>\n",
       "</div>"
      ],
      "text/plain": [
       "         index  result\n",
       "0           ID       0\n",
       "1      total_d    1258\n",
       "2       high_d    1095\n",
       "3        low_d    1211\n",
       "4  none_high_d    1157\n",
       "5       high_p       0\n",
       "6        cdiff    1503\n",
       "7        age_5       0"
      ]
     },
     "execution_count": 29,
     "metadata": {},
     "output_type": "execute_result"
    }
   ],
   "source": [
    "result"
   ]
  },
  {
   "cell_type": "markdown",
   "metadata": {},
   "source": [
    "### 문제3) 환자의 나이대(age_5)와 고위험군 항생제 투여 비중의 상관관계를 분석하고자 한다. Pearson와 Spearman의 상관관계를 소수점 셋째 자리 이하는 버리고 소수점 둘째 짜리까지 각각 서술하시오.\n",
    "\n",
    "[정답]\n",
    "- Pearson: 0.13\n",
    "- Spearman: 0.17"
   ]
  },
  {
   "cell_type": "code",
   "execution_count": 38,
   "metadata": {},
   "outputs": [
    {
     "data": {
      "text/html": [
       "<div>\n",
       "<style scoped>\n",
       "    .dataframe tbody tr th:only-of-type {\n",
       "        vertical-align: middle;\n",
       "    }\n",
       "\n",
       "    .dataframe tbody tr th {\n",
       "        vertical-align: top;\n",
       "    }\n",
       "\n",
       "    .dataframe thead th {\n",
       "        text-align: right;\n",
       "    }\n",
       "</style>\n",
       "<table border=\"1\" class=\"dataframe\">\n",
       "  <thead>\n",
       "    <tr style=\"text-align: right;\">\n",
       "      <th></th>\n",
       "      <th>high_p</th>\n",
       "      <th>age_5</th>\n",
       "    </tr>\n",
       "  </thead>\n",
       "  <tbody>\n",
       "    <tr>\n",
       "      <th>high_p</th>\n",
       "      <td>1.000000</td>\n",
       "      <td>0.125046</td>\n",
       "    </tr>\n",
       "    <tr>\n",
       "      <th>age_5</th>\n",
       "      <td>0.125046</td>\n",
       "      <td>1.000000</td>\n",
       "    </tr>\n",
       "  </tbody>\n",
       "</table>\n",
       "</div>"
      ],
      "text/plain": [
       "          high_p     age_5\n",
       "high_p  1.000000  0.125046\n",
       "age_5   0.125046  1.000000"
      ]
     },
     "execution_count": 38,
     "metadata": {},
     "output_type": "execute_result"
    }
   ],
   "source": [
    "data[['high_p', 'age_5']].corr(method='pearson')"
   ]
  },
  {
   "cell_type": "code",
   "execution_count": 39,
   "metadata": {},
   "outputs": [
    {
     "data": {
      "text/html": [
       "<div>\n",
       "<style scoped>\n",
       "    .dataframe tbody tr th:only-of-type {\n",
       "        vertical-align: middle;\n",
       "    }\n",
       "\n",
       "    .dataframe tbody tr th {\n",
       "        vertical-align: top;\n",
       "    }\n",
       "\n",
       "    .dataframe thead th {\n",
       "        text-align: right;\n",
       "    }\n",
       "</style>\n",
       "<table border=\"1\" class=\"dataframe\">\n",
       "  <thead>\n",
       "    <tr style=\"text-align: right;\">\n",
       "      <th></th>\n",
       "      <th>high_p</th>\n",
       "      <th>age_5</th>\n",
       "    </tr>\n",
       "  </thead>\n",
       "  <tbody>\n",
       "    <tr>\n",
       "      <th>high_p</th>\n",
       "      <td>1.000000</td>\n",
       "      <td>0.167689</td>\n",
       "    </tr>\n",
       "    <tr>\n",
       "      <th>age_5</th>\n",
       "      <td>0.167689</td>\n",
       "      <td>1.000000</td>\n",
       "    </tr>\n",
       "  </tbody>\n",
       "</table>\n",
       "</div>"
      ],
      "text/plain": [
       "          high_p     age_5\n",
       "high_p  1.000000  0.167689\n",
       "age_5   0.167689  1.000000"
      ]
     },
     "execution_count": 39,
     "metadata": {},
     "output_type": "execute_result"
    }
   ],
   "source": [
    "data[['high_p', 'age_5']].corr(method='spearman')"
   ]
  },
  {
   "cell_type": "markdown",
   "metadata": {},
   "source": [
    "### 문제 4)클로스트리디움 디피실균의 감염여부에 따른 고위험군 항생제 투여 비중 차이를 알아보고자 한다. 감염에 따라 집단을 나누고 고위험군 항생제 투여 비중 평균값의 차이를 적절한 통계방법론을 사용하여 1% 유의수준에서 검정한 다음 아래의 질문에 답 하시오\n",
    "- 귀무가설 기각여부를 Y N으로 기술하고, 분산 동질성 여부를 Y N으로 기술하시오\n",
    "- 검정 통계량의 절대값을 소수점 첫째자리 까지 기술하시오(소수점 둘째 자리 미만은 버림)\n",
    "\n",
    "비고) 독립표본 t test 의 두 정규분포의 분산값이 같은경우와 같지 않은 경우에 사용하는 검정 통계량이 다르기 때문에 \n",
    "equal_var 을 사용하여 지정해줘야한다. (default 값은 True)\n",
    "\n",
    "[정답]\n",
    "- 귀무가설 기각여부: Y\n",
    "- 분산 동질성 여부: N\n",
    "- 검정 통계량: 5.1"
   ]
  },
  {
   "cell_type": "code",
   "execution_count": 61,
   "metadata": {},
   "outputs": [
    {
     "data": {
      "text/plain": [
       "46.94235528942116"
      ]
     },
     "execution_count": 61,
     "metadata": {},
     "output_type": "execute_result"
    }
   ],
   "source": [
    "data[data['cdiff'] == 1].high_p.mean()"
   ]
  },
  {
   "cell_type": "code",
   "execution_count": 62,
   "metadata": {},
   "outputs": [
    {
     "data": {
      "text/plain": [
       "42.15115742295283"
      ]
     },
     "execution_count": 62,
     "metadata": {},
     "output_type": "execute_result"
    }
   ],
   "source": [
    "data[data['cdiff'] == 1].high_p.mean()"
   ]
  },
  {
   "cell_type": "code",
   "execution_count": 75,
   "metadata": {},
   "outputs": [],
   "source": [
    "t, p = stats.ttest_ind(data[data['cdiff'] == 1].high_p, data[data['cdiff'] == 0].high_p, equal_var=False)"
   ]
  },
  {
   "cell_type": "code",
   "execution_count": 76,
   "metadata": {},
   "outputs": [
    {
     "name": "stdout",
     "output_type": "stream",
     "text": [
      "t-test is  5.1 p-value is  3.623790784540754e-07\n"
     ]
    }
   ],
   "source": [
    "t, p\n",
    "print('t-test is ', format(t, '.1f'), 'p-value is ', p)"
   ]
  },
  {
   "cell_type": "code",
   "execution_count": 77,
   "metadata": {},
   "outputs": [],
   "source": [
    "t, p = stats.ttest_ind(data[data['cdiff'] == 1].high_p, data[data['cdiff'] == 0].high_p, equal_var=True)"
   ]
  },
  {
   "cell_type": "code",
   "execution_count": 78,
   "metadata": {},
   "outputs": [
    {
     "name": "stdout",
     "output_type": "stream",
     "text": [
      "t-test is  4.6 p-value is  3.975323449530875e-06\n"
     ]
    }
   ],
   "source": [
    "t, p\n",
    "print('t-test is ', format(t, '.1f'), 'p-value is ', p)"
   ]
  },
  {
   "cell_type": "markdown",
   "metadata": {},
   "source": [
    "### 5)클로스트리디움 디피실균의 감염여부를 종속변수로 하고, 환자 식별과(ID)와 \"고위험군 항생제 투여일수를 제외한 항생제 누적투여(none_high_d)를제외한 모든 변수(총 5개)를 독립변수로 하여 로지스틱 회귀분석을 실시하라.\n",
    "- Logistic regression 설정 값이\n",
    "- Inverse of Regularization = 100000, seed = 1234, Penalty = l2, solver = newton-cg\n",
    "- 주의사항: 설정 값을 달리할 경우 다른 결과가 나올 수 있음\n",
    "- 다른 모든 결과가 동일할 때 감염 여부의 오즈비(p/1-p)에 가장 큰 영향을 미치는 변수를 서술하시오\n",
    "\n",
    "- C : Inverse of regularization strength; must be a positive float. Like in support vector machines, smaller values specify stronger regularization.\n",
    "- random_state : random 데이터 생성 시 seed of random number\n",
    "\n",
    "[정답] age_5"
   ]
  },
  {
   "cell_type": "code",
   "execution_count": 94,
   "metadata": {},
   "outputs": [],
   "source": [
    "model = LogisticRegression(C=100000, random_state=1234, fit_intercept=True, penalty='l2', solver='newton-cg')"
   ]
  },
  {
   "cell_type": "code",
   "execution_count": 100,
   "metadata": {},
   "outputs": [],
   "source": [
    "x = data[['total_d', 'high_d', 'low_d', 'high_p', 'age_5']]\n",
    "y = data['cdiff']"
   ]
  },
  {
   "cell_type": "code",
   "execution_count": 104,
   "metadata": {},
   "outputs": [],
   "source": [
    "x2 = sm.add_constant(x)"
   ]
  },
  {
   "cell_type": "code",
   "execution_count": 105,
   "metadata": {},
   "outputs": [
    {
     "name": "stdout",
     "output_type": "stream",
     "text": [
      "                            OLS Regression Results                            \n",
      "==============================================================================\n",
      "Dep. Variable:                  cdiff   R-squared:                       0.017\n",
      "Model:                            OLS   Adj. R-squared:                  0.017\n",
      "Method:                 Least Squares   F-statistic:                     242.7\n",
      "Date:                Sat, 22 Aug 2020   Prob (F-statistic):          5.79e-258\n",
      "Time:                        13:58:33   Log-Likelihood:                 36472.\n",
      "No. Observations:               70000   AIC:                        -7.293e+04\n",
      "Df Residuals:                   69994   BIC:                        -7.288e+04\n",
      "Df Model:                           5                                         \n",
      "Covariance Type:            nonrobust                                         \n",
      "==============================================================================\n",
      "                 coef    std err          t      P>|t|      [0.025      0.975]\n",
      "------------------------------------------------------------------------------\n",
      "const         -0.0049      0.001     -3.873      0.000      -0.007      -0.002\n",
      "total_d        0.0014      0.000      6.367      0.000       0.001       0.002\n",
      "high_d        -0.0002      0.000     -1.246      0.213      -0.001       0.000\n",
      "low_d         -0.0009      0.000     -4.479      0.000      -0.001      -0.000\n",
      "high_p     -7.855e-06   1.62e-05     -0.484      0.628   -3.96e-05    2.39e-05\n",
      "age_5          0.0078      0.000     17.359      0.000       0.007       0.009\n",
      "==============================================================================\n",
      "Omnibus:                    81097.549   Durbin-Watson:                   0.034\n",
      "Prob(Omnibus):                  0.000   Jarque-Bera (JB):          5210828.529\n",
      "Skew:                           6.436   Prob(JB):                         0.00\n",
      "Kurtosis:                      43.260   Cond. No.                         142.\n",
      "==============================================================================\n",
      "\n",
      "Warnings:\n",
      "[1] Standard Errors assume that the covariance matrix of the errors is correctly specified.\n"
     ]
    }
   ],
   "source": [
    "model = sm.OLS(y, x2)\n",
    "result = model.fit()\n",
    "print(result.summary())"
   ]
  },
  {
   "cell_type": "code",
   "execution_count": null,
   "metadata": {},
   "outputs": [],
   "source": []
  }
 ],
 "metadata": {
  "kernelspec": {
   "display_name": "Python 3",
   "language": "python",
   "name": "python3"
  },
  "language_info": {
   "codemirror_mode": {
    "name": "ipython",
    "version": 3
   },
   "file_extension": ".py",
   "mimetype": "text/x-python",
   "name": "python",
   "nbconvert_exporter": "python",
   "pygments_lexer": "ipython3",
   "version": "3.7.6"
  }
 },
 "nbformat": 4,
 "nbformat_minor": 4
}
